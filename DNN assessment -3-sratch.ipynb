{
 "cells": [
  {
   "cell_type": "markdown",
   "id": "0a9ea8c2",
   "metadata": {},
   "source": [
    "# Implement the main steps of a Shallow Neural Network by sratch"
   ]
  },
  {
   "cell_type": "markdown",
   "id": "150631cd",
   "metadata": {},
   "source": [
    "6. Implement the main steps of a Shallow Neural Network\n",
    "● Understand the dataset\n",
    "● Implement your first Forward and Backward propagation\n",
    "● Implement activation function, gradient descent\n",
    "● Build Neural Network Model\n",
    "● Test and optimize the model\n",
    "● Make Predictions\n",
    "7. Plot following graphs using Python\n",
    "i. Plotting Sigmoid 2D\n",
    "ii. Plotting Sigmoid 3D\n",
    "iii. Contour Plot\n",
    "8. Plot following graphs using Python\n",
    "i. Plotting Loss\n",
    "ii. Standardization\n",
    "iii. Test/Train split"
   ]
  },
  {
   "cell_type": "code",
   "execution_count": 15,
   "id": "fbb0e72a",
   "metadata": {},
   "outputs": [],
   "source": [
    "#Step 1 : Creating the data set using numpy array of 0s and 1s. \n",
    "#As the image is a collection of pixel values in matrix, we will create those matrix of pixel for A, B, C \n",
    "\n",
    "\n",
    " \n",
    "# A\n",
    "a =[0, 0, 1, 1, 0, 0,\n",
    "   0, 1, 0, 0, 1, 0,\n",
    "   1, 1, 1, 1, 1, 1,\n",
    "   1, 0, 0, 0, 0, 1,\n",
    "   1, 0, 0, 0, 0, 1]\n",
    "# B\n",
    "b =[0, 1, 1, 1, 1, 0,\n",
    "   0, 1, 0, 0, 1, 0,\n",
    "   0, 1, 1, 1, 1, 0,\n",
    "   0, 1, 0, 0, 1, 0,\n",
    "   0, 1, 1, 1, 1, 0]\n",
    "# C\n",
    "c =[0, 1, 1, 1, 1, 0,\n",
    "   0, 1, 0, 0, 0, 0,\n",
    "   0, 1, 0, 0, 0, 0,\n",
    "   0, 1, 0, 0, 0, 0,\n",
    "   0, 1, 1, 1, 1, 0]\n",
    " \n",
    "# Creating labels\n",
    "y =[[1, 0, 0],\n",
    "   [0, 1, 0],\n",
    "   [0, 0, 1]]"
   ]
  },
  {
   "cell_type": "code",
   "execution_count": 16,
   "id": "94a6a7af",
   "metadata": {
    "scrolled": true
   },
   "outputs": [
    {
     "data": {
      "image/png": "[encoded data removed]",
      "text/plain": [
       "<Figure size 432x288 with 1 Axes>"
      ]
     },
     "metadata": {
      "needs_background": "light"
     },
     "output_type": "display_data"
    }
   ],
   "source": [
    "import numpy as np\n",
    "import matplotlib.pyplot as plt\n",
    "# visualizing the data, ploting A.\n",
    "plt.imshow(np.array(a).reshape(5, 6))\n",
    "plt.show()"
   ]
  },
  {
   "cell_type": "code",
   "execution_count": 17,
   "id": "ae3569e3",
   "metadata": {},
   "outputs": [
    {
     "name": "stdout",
     "output_type": "stream",
     "text": [
      "[array([[0, 0, 1, 1, 0, 0, 0, 1, 0, 0, 1, 0, 1, 1, 1, 1, 1, 1, 1, 0, 0, 0,\n",
      "        0, 1, 1, 0, 0, 0, 0, 1]]), array([[0, 1, 1, 1, 1, 0, 0, 1, 0, 0, 1, 0, 0, 1, 1, 1, 1, 0, 0, 1, 0, 0,\n",
      "        1, 0, 0, 1, 1, 1, 1, 0]]), array([[0, 1, 1, 1, 1, 0, 0, 1, 0, 0, 0, 0, 0, 1, 0, 0, 0, 0, 0, 1, 0, 0,\n",
      "        0, 0, 0, 1, 1, 1, 1, 0]])] \n",
      "\n",
      " [[1 0 0]\n",
      " [0 1 0]\n",
      " [0 0 1]]\n"
     ]
    }
   ],
   "source": [
    "# converting data and labels into numpy array\n",
    " \n",
    "\"\"\"\n",
    "Convert the matrix of 0 and 1 into one hot vector\n",
    "so that we can directly feed it to the neural network,\n",
    "these vectors are then stored in a list x.\n",
    "\"\"\"\n",
    " \n",
    "x =[np.array(a).reshape(1, 30), np.array(b).reshape(1, 30),\n",
    "                                np.array(c).reshape(1, 30)]\n",
    " \n",
    " \n",
    "# Labels are also converted into NumPy array\n",
    "y = np.array(y)\n",
    " \n",
    " \n",
    "print(x, \"\\n\\n\", y)"
   ]
  },
  {
   "cell_type": "markdown",
   "id": "ac772cf2",
   "metadata": {},
   "source": [
    "### Step 5: Declaring and defining all the function to build deep neural network."
   ]
  },
  {
   "cell_type": "code",
   "execution_count": 19,
   "id": "34869d2e",
   "metadata": {},
   "outputs": [],
   "source": [
    "# activation function\n",
    " \n",
    "def sigmoid(x):\n",
    "    return(1/(1 + np.exp(-x)))\n",
    "   \n",
    "# Creating the Feed forward neural network\n",
    "# 1 Input layer(1, 30)\n",
    "# 1 hidden layer (1, 5)\n",
    "# 1 output layer(3, 3)\n",
    " \n",
    "def f_forward(x, w1, w2):\n",
    "    # hidden\n",
    "    z1 = x.dot(w1)# input from layer 1\n",
    "    a1 = sigmoid(z1)# out put of layer 2\n",
    "     \n",
    "    # Output layer\n",
    "    z2 = a1.dot(w2)# input of out layer\n",
    "    a2 = sigmoid(z2)# output of out layer\n",
    "    return(a2)\n",
    "  \n",
    "# initializing the weights randomly\n",
    "def generate_wt(x, y):\n",
    "    l =[]\n",
    "    for i in range(x * y):\n",
    "        l.append(np.random.randn())\n",
    "    return(np.array(l).reshape(x, y))\n",
    "     \n",
    "# for loss we will be using mean square error(MSE)\n",
    "def loss(out, Y):\n",
    "    s =(np.square(out-Y))\n",
    "    s = np.sum(s)/len(y)\n",
    "    return(s)\n",
    "   \n",
    "# Back propagation of error\n",
    "def back_prop(x, y, w1, w2, alpha):\n",
    "     \n",
    "    # hidden layer\n",
    "    z1 = x.dot(w1)# input from layer 1\n",
    "    a1 = sigmoid(z1)# output of layer 2\n",
    "     \n",
    "    # Output layer\n",
    "    z2 = a1.dot(w2)# input of out layer\n",
    "    a2 = sigmoid(z2)# output of out layer\n",
    "    # error in output layer\n",
    "    d2 =(a2-y)\n",
    "    d1 = np.multiply((w2.dot((d2.transpose()))).transpose(),\n",
    "                                   (np.multiply(a1, 1-a1)))\n",
    " \n",
    "    # Gradient for w1 and w2\n",
    "    w1_adj = x.transpose().dot(d1)\n",
    "    w2_adj = a1.transpose().dot(d2)\n",
    "     \n",
    "    # Updating parameters\n",
    "    w1 = w1-(alpha*(w1_adj))\n",
    "    w2 = w2-(alpha*(w2_adj))\n",
    "     \n",
    "    return(w1, w2)\n",
    " \n",
    "def train(x, Y, w1, w2, alpha = 0.01, epoch = 10):\n",
    "    acc =[]\n",
    "    losss =[]\n",
    "    for j in range(epoch):\n",
    "        l =[]\n",
    "        for i in range(len(x)):\n",
    "            out = f_forward(x[i], w1, w2)\n",
    "            l.append((loss(out, Y[i])))\n",
    "            w1, w2 = back_prop(x[i], y[i], w1, w2, alpha)\n",
    "        print(\"epochs:\", j + 1, \"======== acc:\", (1-(sum(l)/len(x)))*100)  \n",
    "        acc.append((1-(sum(l)/len(x)))*100)\n",
    "        losss.append(sum(l)/len(x))\n",
    "    return(acc, losss, w1, w2)\n",
    "  \n",
    "def predict(x, w1, w2):\n",
    "    Out = f_forward(x, w1, w2)\n",
    "    maxm = 0\n",
    "    k = 0\n",
    "    for i in range(len(Out[0])):\n",
    "        if(maxm<Out[0][i]):\n",
    "            maxm = Out[0][i]\n",
    "            k = i\n",
    "    if(k == 0):\n",
    "        print(\"Image is of letter A.\")\n",
    "    elif(k == 1):\n",
    "        print(\"Image is of letter B.\")\n",
    "    else:\n",
    "        print(\"Image is of letter C.\")\n",
    "    plt.imshow(x.reshape(5, 6))\n",
    "    plt.show()   \n",
    "   "
   ]
  },
  {
   "cell_type": "code",
   "execution_count": 20,
   "id": "a87eabec",
   "metadata": {},
   "outputs": [
    {
     "name": "stdout",
     "output_type": "stream",
     "text": [
      "[[-0.1739758  -0.53513682 -1.88709718  0.0490623   1.04018813]\n",
      " [-0.27967735  0.46474486 -0.21844697  0.8021042  -0.32747956]\n",
      " [-0.27705904  0.20856407  2.07982058  1.13520443 -0.0061804 ]\n",
      " [ 2.08258689 -0.37759458 -0.30823822 -0.47742021  0.53351437]\n",
      " [-1.14135734 -0.19748315 -1.66596076 -0.83157924  0.30534601]\n",
      " [ 0.73276583  0.09832934 -1.95253134 -1.22983333 -0.06527531]\n",
      " [ 1.12832645  1.76743443 -1.47539999  0.25529141  0.75614056]\n",
      " [-0.41334949 -0.98867242 -1.32025771  0.07529395  1.43627278]\n",
      " [ 0.00301916 -0.19985714  0.00505299 -2.09551833 -0.31631332]\n",
      " [ 0.80341613 -0.24667225 -0.29706491  1.23525271  2.21989497]\n",
      " [ 2.38043063 -0.47854141  0.68869866  1.32608761  0.66063579]\n",
      " [-0.16019741  0.53592681 -0.29321274 -0.95510937  0.29538895]\n",
      " [-0.09655482  2.21146678  0.65459063 -0.51206997 -0.29525407]\n",
      " [ 0.28464504 -0.09640651  0.36833454  0.6786503  -0.37080514]\n",
      " [ 1.03637488 -0.19661796  0.10233857  0.46118283  0.27001646]\n",
      " [-0.45330255 -1.23565014  0.4222501  -0.52984682  0.21352742]\n",
      " [-0.37361913  0.31909953  2.95185899 -0.37650048  0.14046057]\n",
      " [-0.3483894  -0.07006446  0.85621999  0.08452444  0.77188762]\n",
      " [ 1.02183241 -1.03547393  0.72909854 -1.95962486 -2.45235504]\n",
      " [-1.11288039 -0.38379474 -0.98438618  1.52553442 -0.88677767]\n",
      " [-0.07512551 -0.75621277 -0.56038198  0.22526012  0.98768137]\n",
      " [ 0.4812039   0.64485024  0.49097744  1.6716316   0.67729386]\n",
      " [ 1.02724335 -0.60925503  0.77743826  1.26823935 -0.14025672]\n",
      " [ 0.42397907 -0.42247925  1.10712372  0.75663023 -0.62754514]\n",
      " [ 1.44617826  0.78415952 -1.89299066 -0.50541542 -2.73382288]\n",
      " [ 0.53944798 -1.6136865  -1.07162157 -0.53026126  0.19851286]\n",
      " [-1.09175143 -0.28819158 -0.63227725 -1.28956466 -0.59858236]\n",
      " [ 0.2200784  -2.37434328  0.53683859 -0.37651068 -1.40361588]\n",
      " [-0.05687341  0.64247074 -1.29459276  1.27342269  1.61924042]\n",
      " [-1.27542364  1.27518936  0.31066694  1.13253561 -0.30691858]] \n",
      "\n",
      " [[-0.38776267  0.71257529  0.54999472]\n",
      " [ 0.3347987  -2.25665078 -0.49387421]\n",
      " [-1.06898044 -0.85488585  0.2208602 ]\n",
      " [-1.3462583   0.18509065  0.88751983]\n",
      " [ 0.5886969  -0.21242244  0.7001309 ]]\n"
     ]
    }
   ],
   "source": [
    "w1 = generate_wt(30, 5)\n",
    "w2 = generate_wt(5, 3)\n",
    "print(w1, \"\\n\\n\", w2)"
   ]
  },
  {
   "cell_type": "markdown",
   "id": "efd5759a",
   "metadata": {},
   "source": [
    "### Step 7 : Training the model."
   ]
  },
  {
   "cell_type": "code",
   "execution_count": 21,
   "id": "5d8230f4",
   "metadata": {},
   "outputs": [
    {
     "name": "stdout",
     "output_type": "stream",
     "text": [
      "epochs: 1 ======== acc: 66.88514424196316\n",
      "epochs: 2 ======== acc: 70.19937887370133\n",
      "epochs: 3 ======== acc: 73.48292106668708\n",
      "epochs: 4 ======== acc: 76.42377810302173\n",
      "epochs: 5 ======== acc: 78.86787212067445\n",
      "epochs: 6 ======== acc: 80.8218198789423\n",
      "epochs: 7 ======== acc: 82.38132029765355\n",
      "epochs: 8 ======== acc: 83.64574111822543\n",
      "epochs: 9 ======== acc: 84.6893529943276\n",
      "epochs: 10 ======== acc: 85.56427171887587\n",
      "epochs: 11 ======== acc: 86.30767135501493\n",
      "epochs: 12 ======== acc: 86.9468937907938\n",
      "epochs: 13 ======== acc: 87.50258473499889\n",
      "epochs: 14 ======== acc: 87.99063848881966\n",
      "epochs: 15 ======== acc: 88.42346412731756\n",
      "epochs: 16 ======== acc: 88.81085232807708\n",
      "epochs: 17 ======== acc: 89.16059309460618\n",
      "epochs: 18 ======== acc: 89.4789288732969\n",
      "epochs: 19 ======== acc: 89.77089370682553\n",
      "epochs: 20 ======== acc: 90.04057075522188\n",
      "epochs: 21 ======== acc: 90.29128993709409\n",
      "epochs: 22 ======== acc: 90.52578090924054\n",
      "epochs: 23 ======== acc: 90.74629232822515\n",
      "epochs: 24 ======== acc: 90.9546854155504\n",
      "epochs: 25 ======== acc: 91.15250778730325\n",
      "epochs: 26 ======== acc: 91.34105202384397\n",
      "epochs: 27 ======== acc: 91.52140236804482\n",
      "epochs: 28 ======== acc: 91.69447213592363\n",
      "epochs: 29 ======== acc: 91.86103382254464\n",
      "epochs: 30 ======== acc: 92.0217434338217\n",
      "epochs: 31 ======== acc: 92.17716023227352\n",
      "epochs: 32 ======== acc: 92.32776282367816\n",
      "epochs: 33 ======== acc: 92.47396231144982\n",
      "epochs: 34 ======== acc: 92.61611309136573\n",
      "epochs: 35 ======== acc: 92.75452173987917\n",
      "epochs: 36 ======== acc: 92.88945435638783\n",
      "epochs: 37 ======== acc: 93.02114264728225\n",
      "epochs: 38 ======== acc: 93.14978898270417\n",
      "epochs: 39 ======== acc: 93.27557061215327\n",
      "epochs: 40 ======== acc: 93.39864318969084\n",
      "epochs: 41 ======== acc: 93.51914373142122\n",
      "epochs: 42 ======== acc: 93.63719310558761\n",
      "epochs: 43 ======== acc: 93.75289813774853\n",
      "epochs: 44 ======== acc: 93.86635339913502\n",
      "epochs: 45 ======== acc: 93.97764273465982\n",
      "epochs: 46 ======== acc: 94.08684057755686\n",
      "epochs: 47 ======== acc: 94.19401308979572\n",
      "epochs: 48 ======== acc: 94.29921916086492\n",
      "epochs: 49 ======== acc: 94.40251129195897\n",
      "epochs: 50 ======== acc: 94.50393638780835\n",
      "epochs: 51 ======== acc: 94.60353647419547\n",
      "epochs: 52 ======== acc: 94.70134935548084\n",
      "epochs: 53 ======== acc: 94.79740922314815\n",
      "epochs: 54 ======== acc: 94.89174722342129\n",
      "epochs: 55 ======== acc: 94.98439198939755\n",
      "epochs: 56 ======== acc: 95.07537014088221\n",
      "epochs: 57 ======== acc: 95.16470675321843\n",
      "epochs: 58 ======== acc: 95.25242579490025\n",
      "epochs: 59 ======== acc: 95.33855053265118\n",
      "epochs: 60 ======== acc: 95.42310390194679\n",
      "epochs: 61 ======== acc: 95.50610884064577\n",
      "epochs: 62 ======== acc: 95.58758858343795\n",
      "epochs: 63 ======== acc: 95.66756691516983\n",
      "epochs: 64 ======== acc: 95.74606838170597\n",
      "epochs: 65 ======== acc: 95.82311845775268\n",
      "epochs: 66 ======== acc: 95.89874367193111\n",
      "epochs: 67 ======== acc: 95.97297169026162\n",
      "epochs: 68 ======== acc: 96.04583136004428\n",
      "epochs: 69 ======== acc: 96.11735271683088\n",
      "epochs: 70 ======== acc: 96.18756695774141\n",
      "epochs: 71 ======== acc: 96.25650638475882\n",
      "epochs: 72 ======== acc: 96.32420432182698\n",
      "epochs: 73 ======== acc: 96.39069500958544\n",
      "epochs: 74 ======== acc: 96.45601348141675\n",
      "epochs: 75 ======== acc: 96.52019542418095\n",
      "epochs: 76 ======== acc: 96.58327702660054\n",
      "epochs: 77 ======== acc: 96.64529481776715\n",
      "epochs: 78 ======== acc: 96.70628549770478\n",
      "epochs: 79 ======== acc: 96.76628576137392\n",
      "epochs: 80 ======== acc: 96.82533211696679\n",
      "epochs: 81 ======== acc: 96.88346069885489\n",
      "epochs: 82 ======== acc: 96.9407070751327\n",
      "epochs: 83 ======== acc: 96.9971060493793\n",
      "epochs: 84 ======== acc: 97.05269145606097\n",
      "epochs: 85 ======== acc: 97.10749594894553\n",
      "epochs: 86 ======== acc: 97.1615507820217\n",
      "epochs: 87 ======== acc: 97.21488558274095\n",
      "epochs: 88 ======== acc: 97.2675281179514\n",
      "epochs: 89 ======== acc: 97.31950405369915\n",
      "epochs: 90 ======== acc: 97.37083671114473\n",
      "epochs: 91 ======== acc: 97.4215468221888\n",
      "epochs: 92 ======== acc: 97.47165228999974\n",
      "epochs: 93 ======== acc: 97.5211679614397\n",
      "epochs: 94 ======== acc: 97.57010542030412\n",
      "epochs: 95 ======== acc: 97.6184728121815\n",
      "epochs: 96 ======== acc: 97.66627471340931\n",
      "epochs: 97 ======== acc: 97.71351205779227\n",
      "epochs: 98 ======== acc: 97.76018213516741\n",
      "epochs: 99 ======== acc: 97.80627867522503\n",
      "epochs: 100 ======== acc: 97.85179202793964\n"
     ]
    }
   ],
   "source": [
    "\"\"\"The arguments of train function are data set list x,\n",
    "correct labels y, weights w1, w2, learning rate = 0.1,\n",
    "no of epochs or iteration.The function will return the\n",
    "matrix of accuracy and loss and also the matrix of\n",
    "trained weights w1, w2\"\"\"\n",
    " \n",
    "acc, losss, w1, w2 = train(x, y, w1, w2, 0.1, 100)"
   ]
  },
  {
   "cell_type": "markdown",
   "id": "8b3531df",
   "metadata": {},
   "source": [
    "### Step 8 : Plotting the graphs of loss and accuracy with respect to number of epochs(Iteration)."
   ]
  },
  {
   "cell_type": "code",
   "execution_count": 23,
   "id": "43c1315b",
   "metadata": {},
   "outputs": [
    {
     "data": {
      "image/png": "[encoded data removed]",
      "text/plain": [
       "<Figure size 432x288 with 1 Axes>"
      ]
     },
     "metadata": {
      "needs_background": "light"
     },
     "output_type": "display_data"
    },
    {
     "data": {
      "image/png": "[encoded data removed]",
      "text/plain": [
       "<Figure size 432x288 with 1 Axes>"
      ]
     },
     "metadata": {
      "needs_background": "light"
     },
     "output_type": "display_data"
    }
   ],
   "source": [
    "import matplotlib.pyplot as plt1\n",
    " \n",
    "# ploting accuracy\n",
    "plt1.plot(acc)\n",
    "plt1.ylabel('Accuracy')\n",
    "plt1.xlabel(\"Epochs:\")\n",
    "plt1.show()\n",
    " \n",
    "# plotting Loss\n",
    "plt1.plot(losss)\n",
    "plt1.ylabel('Loss')\n",
    "plt1.xlabel(\"Epochs:\")\n",
    "plt1.show()"
   ]
  },
  {
   "cell_type": "code",
   "execution_count": 24,
   "id": "95189d5d",
   "metadata": {},
   "outputs": [
    {
     "name": "stdout",
     "output_type": "stream",
     "text": [
      "[[-1.73975796e-01 -5.35136824e-01 -1.88709718e+00  4.90622994e-02\n",
      "   1.04018813e+00]\n",
      " [-4.49994805e-01  6.36920579e-01 -1.19120346e-01  1.10958064e+00\n",
      "  -2.69352838e-01]\n",
      " [-4.51078639e-01  7.05723847e-01  2.17917053e+00  1.02526669e+00\n",
      "   6.21784834e-02]\n",
      " [ 1.90856728e+00  1.19565203e-01 -2.08888279e-01 -5.87357952e-01\n",
      "   6.01873255e-01]\n",
      " [-1.31167480e+00 -2.53074276e-02 -1.56663414e+00 -5.24102806e-01\n",
      "   3.63472730e-01]\n",
      " [ 7.32765833e-01  9.83293377e-02 -1.95253134e+00 -1.22983333e+00\n",
      "  -6.52753116e-02]\n",
      " [ 1.12832645e+00  1.76743443e+00 -1.47539999e+00  2.55291409e-01\n",
      "   7.56140563e-01]\n",
      " [-5.87369092e-01 -4.91512643e-01 -1.22090777e+00 -3.46437992e-02\n",
      "   1.50463167e+00]\n",
      " [ 3.01916039e-03 -1.99857138e-01  5.05298847e-03 -2.09551833e+00\n",
      "  -3.16313320e-01]\n",
      " [ 8.03416133e-01 -2.46672245e-01 -2.97064906e-01  1.23525271e+00\n",
      "   2.21989497e+00]\n",
      " [ 2.88204012e+00 -2.72146507e-01  8.37146010e-01  9.31720278e-01\n",
      "   1.91537630e-01]\n",
      " [-1.60197405e-01  5.35926808e-01 -2.93212742e-01 -9.55109372e-01\n",
      "   2.95388951e-01]\n",
      " [-1.00256962e-01  2.53645084e+00  6.54613957e-01 -9.29484157e-01\n",
      "  -2.85021908e-01]\n",
      " [ 1.10625441e-01  4.00753274e-01  4.67684489e-01  5.68712559e-01\n",
      "  -3.02446257e-01]\n",
      " [ 1.53798437e+00  9.77694682e-03  2.50785922e-01  6.68154931e-02\n",
      "  -1.99081701e-01]\n",
      " [ 4.83069428e-02 -1.02925524e+00  5.70697455e-01 -9.24214152e-01\n",
      "  -2.55570738e-01]\n",
      " [ 1.27990366e-01  5.25494437e-01  3.10030634e+00 -7.70867819e-01\n",
      "  -3.28637587e-01]\n",
      " [-3.52091544e-01  2.54919599e-01  8.56243317e-01 -3.32889747e-01\n",
      "   7.82119785e-01]\n",
      " [ 1.01813026e+00 -7.10489870e-01  7.29121868e-01 -2.37703904e+00\n",
      "  -2.44212288e+00]\n",
      " [-1.28319784e+00 -2.11619018e-01 -8.85059560e-01  1.83301085e+00\n",
      "  -8.28650950e-01]\n",
      " [-7.51255092e-02 -7.56212769e-01 -5.60381979e-01  2.25260124e-01\n",
      "   9.87681375e-01]\n",
      " [ 4.81203898e-01  6.44850239e-01  4.90977445e-01  1.67163160e+00\n",
      "   6.77293859e-01]\n",
      " [ 1.53255498e+00 -7.27844189e-01  9.25862288e-01  1.29128620e+00\n",
      "  -6.19587041e-01]\n",
      " [ 4.20276926e-01 -9.74951879e-02  1.10714704e+00  3.39216050e-01\n",
      "  -6.17312978e-01]\n",
      " [ 1.44247611e+00  1.10914358e+00 -1.89296733e+00 -9.22829605e-01\n",
      "  -2.72359071e+00]\n",
      " [ 3.69130524e-01 -1.44151078e+00 -9.72294953e-01 -2.22784822e-01\n",
      "   2.56639579e-01]\n",
      " [-1.26206888e+00 -1.16015858e-01 -5.32950627e-01 -9.82088223e-01\n",
      "  -5.40455632e-01]\n",
      " [ 4.97609398e-02 -2.20216756e+00  6.36165214e-01 -6.90342392e-02\n",
      "  -1.34548915e+00]\n",
      " [-2.27190864e-01  8.14646454e-01 -1.19526614e+00  1.58089913e+00\n",
      "   1.67736714e+00]\n",
      " [-1.27912579e+00  1.60017342e+00  3.10690259e-01  7.15121431e-01\n",
      "  -2.96686418e-01]] \n",
      " [[ 0.4440953   1.99794215 -2.07400151]\n",
      " [ 2.12559262 -3.75299966 -0.97917031]\n",
      " [ 0.16677039  0.05130541 -2.03793125]\n",
      " [-3.14899873 -0.42203666  1.20980467]\n",
      " [-0.54861648 -0.54708468  0.88239329]]\n"
     ]
    }
   ],
   "source": [
    "# the trained weights are\n",
    "print(w1, \"\\n\", w2)"
   ]
  },
  {
   "cell_type": "code",
   "execution_count": 25,
   "id": "ad54dada",
   "metadata": {},
   "outputs": [
    {
     "name": "stdout",
     "output_type": "stream",
     "text": [
      "Image is of letter B.\n"
     ]
    },
    {
     "data": {
      "image/png": "[encoded data removed]",
      "text/plain": [
       "<Figure size 432x288 with 1 Axes>"
      ]
     },
     "metadata": {
      "needs_background": "light"
     },
     "output_type": "display_data"
    }
   ],
   "source": [
    "#prediction\n",
    "\"\"\"\n",
    "The predict function will take the following arguments:\n",
    "1) image matrix\n",
    "2) w1 trained weights\n",
    "3) w2 trained weights\n",
    "\"\"\"\n",
    "predict(x[1], w1, w2)"
   ]
  },
  {
   "cell_type": "markdown",
   "id": "3fff291d",
   "metadata": {},
   "source": [
    "# Assignment 2 –Lab:\n"
   ]
  },
  {
   "cell_type": "markdown",
   "id": "5c48f765",
   "metadata": {},
   "source": [
    "### Sigmoid Function\n",
    "The sigmoid function is a special form of the logistic function and is usually denoted by σ(x) or sig(x). It is given by:\n",
    "\n",
    "σ(x) = 1/(1+exp(-x))"
   ]
  },
  {
   "cell_type": "markdown",
   "id": "62d0c4e1",
   "metadata": {},
   "source": [
    "## Plotting Sigmoid 2D "
   ]
  },
  {
   "cell_type": "code",
   "execution_count": 138,
   "id": "55b00bde",
   "metadata": {
    "scrolled": true
   },
   "outputs": [
    {
     "data": {
      "image/png": "[encoded data removed]",
      "text/plain": [
       "<Figure size 432x288 with 1 Axes>"
      ]
     },
     "metadata": {
      "needs_background": "light"
     },
     "output_type": "display_data"
    }
   ],
   "source": [
    "import matplotlib.pyplot as plt\n",
    "from scipy.special import expit\n",
    "import numpy as np\n",
    "\n",
    "#define range of x-values\n",
    "x = np.linspace(-10, 10, 100)\n",
    "\n",
    "#calculate sigmoid function for each x-value\n",
    "y = expit(x)\n",
    "  \n",
    "#create plot\n",
    "plt.plot(x, y)\n",
    "plt.xlabel('x')\n",
    "plt.ylabel('F(x)')\n",
    "\n",
    "\n",
    "\n",
    "#display plot\n",
    "plt.show()"
   ]
  },
  {
   "cell_type": "markdown",
   "id": "d55eb1bd",
   "metadata": {},
   "source": [
    "# plotting 3d graph"
   ]
  },
  {
   "cell_type": "code",
   "execution_count": 146,
   "id": "dcc89e22",
   "metadata": {},
   "outputs": [
    {
     "data": {
      "image/png": "[encoded data removed]",
      "text/plain": [
       "<Figure size 432x288 with 1 Axes>"
      ]
     },
     "metadata": {
      "needs_background": "light"
     },
     "output_type": "display_data"
    }
   ],
   "source": [
    "import matplotlib.pyplot as plt\n",
    "from scipy.special import expit\n",
    "import numpy as np\n",
    "\n",
    "#define range of x-values\n",
    "x = np.linspace(-10, 10, 100)\n",
    "\n",
    "#calculate sigmoid function for each x-value\n",
    "y = expit(x)\n",
    "  \n",
    "\n",
    "\n",
    "\n",
    "X, Y = np.meshgrid(x, y)\n",
    "Z = f(X, Y)\n",
    "\n",
    "fig = plt.figure(1)\n",
    "ax = plt.axes(projection ='3d')\n",
    "ax.plot_wireframe(X, Y, Z, color ='green')\n",
    "ax.set_title('wireframe');\n",
    "\n",
    "#display plot\n",
    "plt.show()"
   ]
  },
  {
   "cell_type": "markdown",
   "id": "d8934b3b",
   "metadata": {},
   "source": [
    "## Contour Plot \n",
    "A contour plot is a graphical method to visualize the 3-D surface by plotting constant Z slices called contours in a 2-D format.\n",
    "The contour plot is an alternative to a 3-D surface plotA contour plot is a graphical method to visualize the 3-D surface by plotting constant Z slices called contours in a 2-D format.\n",
    "The contour plot is an alternative to a 3-D surface plot"
   ]
  },
  {
   "cell_type": "code",
   "execution_count": 29,
   "id": "afe03972",
   "metadata": {},
   "outputs": [
    {
     "data": {
      "image/png": "[encoded data removed]",
      "text/plain": [
       "<Figure size 432x288 with 2 Axes>"
      ]
     },
     "metadata": {
      "needs_background": "light"
     },
     "output_type": "display_data"
    }
   ],
   "source": [
    "import numpy as np\n",
    "import matplotlib.pyplot as plt\n",
    "xlist = np.linspace(-1.0, 1.0, 100)\n",
    "ylist = np.linspace(-1.0, 1.0, 100)\n",
    "X, Y = np.meshgrid(xlist, ylist)\n",
    "Z = np.sqrt(X**2 + Y**2)\n",
    "fig,ax=plt.subplots(1,1)\n",
    "cp = ax.contourf(X, Y, Z)\n",
    "fig.colorbar(cp) # Add a colorbar to a plot\n",
    "ax.set_title('Filled Contours Plot')\n",
    "#ax.set_xlabel('x (cm)')\n",
    "ax.set_ylabel('y (cm)')\n",
    "plt.show()"
   ]
  },
  {
   "cell_type": "markdown",
   "id": "1fe52053",
   "metadata": {},
   "source": [
    "## Plotting Loss"
   ]
  },
  {
   "cell_type": "code",
   "execution_count": 30,
   "id": "505df141",
   "metadata": {},
   "outputs": [
    {
     "name": "stderr",
     "output_type": "stream",
     "text": [
      "C:\\Users\\DELL\\AppData\\Local\\Temp/ipykernel_14808/1556960697.py:2: RuntimeWarning: divide by zero encountered in log\n",
      "  y = -np.log(x)\n"
     ]
    },
    {
     "data": {
      "image/png": "[encoded data removed]",
      "text/plain": [
       "<Figure size 432x288 with 1 Axes>"
      ]
     },
     "metadata": {
      "needs_background": "light"
     },
     "output_type": "display_data"
    }
   ],
   "source": [
    "x = np.arange(0, 1, 0.01)\n",
    "y = -np.log(x)\n",
    "\n",
    "plt.plot(x, y, color='k', lw=1, linestyle=None)\n",
    "plt.show()"
   ]
  },
  {
   "cell_type": "markdown",
   "id": "d616a6c5",
   "metadata": {},
   "source": [
    "## Standardization "
   ]
  },
  {
   "cell_type": "markdown",
   "id": "30b8575f",
   "metadata": {},
   "source": [
    "Batch normalization is a technique for training very deep neural networks that standardizes the inputs to a layer for each mini-batch. This has the effect of stabilizing the learning process and dramatically reducing the number of training epochs required to train deep networks."
   ]
  },
  {
   "cell_type": "markdown",
   "id": "63676d7b",
   "metadata": {},
   "source": [
    "## Test/Train split"
   ]
  },
  {
   "cell_type": "code",
   "execution_count": 35,
   "id": "033cac2e",
   "metadata": {},
   "outputs": [],
   "source": [
    "import keras\n",
    "from tensorflow.keras.datasets.mnist import load_data \n",
    "from tensorflow.keras.datasets import mnist \n",
    "\n"
   ]
  },
  {
   "cell_type": "code",
   "execution_count": 37,
   "id": "f2512560",
   "metadata": {},
   "outputs": [
    {
     "name": "stdout",
     "output_type": "stream",
     "text": [
      "[[[0 0 0 ... 0 0 0]\n",
      "  [0 0 0 ... 0 0 0]\n",
      "  [0 0 0 ... 0 0 0]\n",
      "  ...\n",
      "  [0 0 0 ... 0 0 0]\n",
      "  [0 0 0 ... 0 0 0]\n",
      "  [0 0 0 ... 0 0 0]]\n",
      "\n",
      " [[0 0 0 ... 0 0 0]\n",
      "  [0 0 0 ... 0 0 0]\n",
      "  [0 0 0 ... 0 0 0]\n",
      "  ...\n",
      "  [0 0 0 ... 0 0 0]\n",
      "  [0 0 0 ... 0 0 0]\n",
      "  [0 0 0 ... 0 0 0]]\n",
      "\n",
      " [[0 0 0 ... 0 0 0]\n",
      "  [0 0 0 ... 0 0 0]\n",
      "  [0 0 0 ... 0 0 0]\n",
      "  ...\n",
      "  [0 0 0 ... 0 0 0]\n",
      "  [0 0 0 ... 0 0 0]\n",
      "  [0 0 0 ... 0 0 0]]]\n",
      "[0 9 0]\n"
     ]
    }
   ],
   "source": [
    "#loading the MNIST Dataset \n",
    "\n",
    "(X_train,y_train), (X_test,Y_test) = mnist.load_data()\n",
    "train_size = X_train.shape[0]\n",
    "batch_size = 3\n",
    "batch_mask = np.random.choice(train_size, batch_size)\n",
    "print(X_train[batch_mask])\n",
    "print(y_train[batch_mask])"
   ]
  },
  {
   "cell_type": "code",
   "execution_count": null,
   "id": "0584c447",
   "metadata": {},
   "outputs": [],
   "source": []
  }
 ],
 "metadata": {
  "kernelspec": {
   "display_name": "Python 3 (ipykernel)",
   "language": "python",
   "name": "python3"
  },
  "language_info": {
   "codemirror_mode": {
    "name": "ipython",
    "version": 3
   },
   "file_extension": ".py",
   "mimetype": "text/x-python",
   "name": "python",
   "nbconvert_exporter": "python",
   "pygments_lexer": "ipython3",
   "version": "3.9.7"
  }
 },
 "nbformat": 4,
 "nbformat_minor": 5
}
