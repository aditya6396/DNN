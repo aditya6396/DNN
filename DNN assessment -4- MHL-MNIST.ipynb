{
 "cells": [
  {
   "cell_type": "markdown",
   "id": "fe58d2ad",
   "metadata": {},
   "source": [
    "# Multi-class neural network with a multiple hidden layer\n"
   ]
  },
  {
   "cell_type": "markdown",
   "id": "777a5c1c",
   "metadata": {},
   "source": [
    "9. Implement a Multi-class neural network with a multiple hidden layer for MNSIT\n",
    "Dataset using keras library\n",
    "10. Implement a Multi-class neural network with a multiple hidden layer for MNSIT\n",
    "Dataset using keras library. Apply Dropout Regularization\n",
    "11. Implement a Multi-class neural network with a multiple hidden layer for MNSIT\n",
    "Dataset using keras library. Apply L1 and L2 Regularization"
   ]
  },
  {
   "cell_type": "code",
   "execution_count": 2,
   "id": "24d37705",
   "metadata": {},
   "outputs": [],
   "source": [
    "import numpy as np\n",
    "\n",
    "import pandas as pd \n",
    "import keras\n",
    "\n",
    "from numpy import unique, argmax\n",
    "\n",
    "from tensorflow.keras.datasets.mnist import load_data \n",
    "\n",
    "from tensorflow.keras import Sequential\n",
    "\n",
    "from tensorflow.keras.layers import Conv2D\n",
    "\n",
    "from tensorflow.keras.layers import MaxPool2D\n",
    "import seaborn as sns \n",
    "\n",
    "from tensorflow.keras.layers import Dense \n",
    "\n",
    "from tensorflow.keras.layers import Flatten \n",
    "\n",
    "from tensorflow.keras.layers import Dropout \n",
    "\n",
    "from tensorflow.keras.utils import plot_model\n",
    "\n",
    "import matplotlib.pyplot as plt\n",
    "\n",
    "from tensorflow.keras.datasets import mnist \n",
    "\n",
    "from tensorflow.keras.preprocessing.image import ImageDataGenerator\n",
    "from tensorflow.keras.layers import BatchNormalization"
   ]
  },
  {
   "cell_type": "code",
   "execution_count": 3,
   "id": "91982e27",
   "metadata": {},
   "outputs": [],
   "source": [
    "#loading the MNIST Dataset /spillting the dataset into X_train and y_train\n",
    "\n",
    "(X_train, y_train), (X_test,y_test) = mnist.load_data()"
   ]
  },
  {
   "cell_type": "code",
   "execution_count": 4,
   "id": "d88eed2a",
   "metadata": {},
   "outputs": [
    {
     "name": "stdout",
     "output_type": "stream",
     "text": [
      "(60000, 28, 28) (60000,)\n",
      "(10000, 28, 28) (10000,)\n"
     ]
    }
   ],
   "source": [
    "#printing the shapes /Understand the dataset\n",
    "\n",
    "print(X_train.shape, y_train.shape)\n",
    "\n",
    "print(X_test.shape , y_test.shape)"
   ]
  },
  {
   "cell_type": "code",
   "execution_count": 6,
   "id": "ce7eb69f",
   "metadata": {},
   "outputs": [
    {
     "data": {
      "text/plain": [
       "array([[  0,   0,   0,   0,   0,   0,   0,   0,   0,   0,   0,   0,   0,\n",
       "          0,   0,   0,   0,   0,   0,   0,   0,   0,   0,   0,   0,   0,\n",
       "          0,   0],\n",
       "       [  0,   0,   0,   0,   0,   0,   0,   0,   0,   0,   0,   0,   0,\n",
       "          0,   0,   0,   0,   0,   0,   0,   0,   0,   0,   0,   0,   0,\n",
       "          0,   0],\n",
       "       [  0,   0,   0,   0,   0,   0,   0,   0,   0,   0,   0,   0,   0,\n",
       "          0,   0,   0,   0,   0,   0,   0,   0,   0,   0,   0,   0,   0,\n",
       "          0,   0],\n",
       "       [  0,   0,   0,   0,   0,   0,   0,   0,   0,   0,   0,   0,   0,\n",
       "          0,   0,   0,   0,   0,   0,   0,   0,   0,   0,   0,   0,   0,\n",
       "          0,   0],\n",
       "       [  0,   0,   0,   0,   0,   0,   0,   0,   0,   0,   0,   0,   0,\n",
       "          0,   0,   0,   0,   0,   0,   0,   0,   0,   0,   0,   0,   0,\n",
       "          0,   0],\n",
       "       [  0,   0,   0,   0,   0,   0,   0,   0,   0,   0,   0,   0,   3,\n",
       "         18,  18,  18, 126, 136, 175,  26, 166, 255, 247, 127,   0,   0,\n",
       "          0,   0],\n",
       "       [  0,   0,   0,   0,   0,   0,   0,   0,  30,  36,  94, 154, 170,\n",
       "        253, 253, 253, 253, 253, 225, 172, 253, 242, 195,  64,   0,   0,\n",
       "          0,   0],\n",
       "       [  0,   0,   0,   0,   0,   0,   0,  49, 238, 253, 253, 253, 253,\n",
       "        253, 253, 253, 253, 251,  93,  82,  82,  56,  39,   0,   0,   0,\n",
       "          0,   0],\n",
       "       [  0,   0,   0,   0,   0,   0,   0,  18, 219, 253, 253, 253, 253,\n",
       "        253, 198, 182, 247, 241,   0,   0,   0,   0,   0,   0,   0,   0,\n",
       "          0,   0],\n",
       "       [  0,   0,   0,   0,   0,   0,   0,   0,  80, 156, 107, 253, 253,\n",
       "        205,  11,   0,  43, 154,   0,   0,   0,   0,   0,   0,   0,   0,\n",
       "          0,   0],\n",
       "       [  0,   0,   0,   0,   0,   0,   0,   0,   0,  14,   1, 154, 253,\n",
       "         90,   0,   0,   0,   0,   0,   0,   0,   0,   0,   0,   0,   0,\n",
       "          0,   0],\n",
       "       [  0,   0,   0,   0,   0,   0,   0,   0,   0,   0,   0, 139, 253,\n",
       "        190,   2,   0,   0,   0,   0,   0,   0,   0,   0,   0,   0,   0,\n",
       "          0,   0],\n",
       "       [  0,   0,   0,   0,   0,   0,   0,   0,   0,   0,   0,  11, 190,\n",
       "        253,  70,   0,   0,   0,   0,   0,   0,   0,   0,   0,   0,   0,\n",
       "          0,   0],\n",
       "       [  0,   0,   0,   0,   0,   0,   0,   0,   0,   0,   0,   0,  35,\n",
       "        241, 225, 160, 108,   1,   0,   0,   0,   0,   0,   0,   0,   0,\n",
       "          0,   0],\n",
       "       [  0,   0,   0,   0,   0,   0,   0,   0,   0,   0,   0,   0,   0,\n",
       "         81, 240, 253, 253, 119,  25,   0,   0,   0,   0,   0,   0,   0,\n",
       "          0,   0],\n",
       "       [  0,   0,   0,   0,   0,   0,   0,   0,   0,   0,   0,   0,   0,\n",
       "          0,  45, 186, 253, 253, 150,  27,   0,   0,   0,   0,   0,   0,\n",
       "          0,   0],\n",
       "       [  0,   0,   0,   0,   0,   0,   0,   0,   0,   0,   0,   0,   0,\n",
       "          0,   0,  16,  93, 252, 253, 187,   0,   0,   0,   0,   0,   0,\n",
       "          0,   0],\n",
       "       [  0,   0,   0,   0,   0,   0,   0,   0,   0,   0,   0,   0,   0,\n",
       "          0,   0,   0,   0, 249, 253, 249,  64,   0,   0,   0,   0,   0,\n",
       "          0,   0],\n",
       "       [  0,   0,   0,   0,   0,   0,   0,   0,   0,   0,   0,   0,   0,\n",
       "          0,  46, 130, 183, 253, 253, 207,   2,   0,   0,   0,   0,   0,\n",
       "          0,   0],\n",
       "       [  0,   0,   0,   0,   0,   0,   0,   0,   0,   0,   0,   0,  39,\n",
       "        148, 229, 253, 253, 253, 250, 182,   0,   0,   0,   0,   0,   0,\n",
       "          0,   0],\n",
       "       [  0,   0,   0,   0,   0,   0,   0,   0,   0,   0,  24, 114, 221,\n",
       "        253, 253, 253, 253, 201,  78,   0,   0,   0,   0,   0,   0,   0,\n",
       "          0,   0],\n",
       "       [  0,   0,   0,   0,   0,   0,   0,   0,  23,  66, 213, 253, 253,\n",
       "        253, 253, 198,  81,   2,   0,   0,   0,   0,   0,   0,   0,   0,\n",
       "          0,   0],\n",
       "       [  0,   0,   0,   0,   0,   0,  18, 171, 219, 253, 253, 253, 253,\n",
       "        195,  80,   9,   0,   0,   0,   0,   0,   0,   0,   0,   0,   0,\n",
       "          0,   0],\n",
       "       [  0,   0,   0,   0,  55, 172, 226, 253, 253, 253, 253, 244, 133,\n",
       "         11,   0,   0,   0,   0,   0,   0,   0,   0,   0,   0,   0,   0,\n",
       "          0,   0],\n",
       "       [  0,   0,   0,   0, 136, 253, 253, 253, 212, 135, 132,  16,   0,\n",
       "          0,   0,   0,   0,   0,   0,   0,   0,   0,   0,   0,   0,   0,\n",
       "          0,   0],\n",
       "       [  0,   0,   0,   0,   0,   0,   0,   0,   0,   0,   0,   0,   0,\n",
       "          0,   0,   0,   0,   0,   0,   0,   0,   0,   0,   0,   0,   0,\n",
       "          0,   0],\n",
       "       [  0,   0,   0,   0,   0,   0,   0,   0,   0,   0,   0,   0,   0,\n",
       "          0,   0,   0,   0,   0,   0,   0,   0,   0,   0,   0,   0,   0,\n",
       "          0,   0],\n",
       "       [  0,   0,   0,   0,   0,   0,   0,   0,   0,   0,   0,   0,   0,\n",
       "          0,   0,   0,   0,   0,   0,   0,   0,   0,   0,   0,   0,   0,\n",
       "          0,   0]], dtype=uint8)"
      ]
     },
     "execution_count": 6,
     "metadata": {},
     "output_type": "execute_result"
    }
   ],
   "source": [
    "X_train[0]"
   ]
  },
  {
   "cell_type": "code",
   "execution_count": 7,
   "id": "c23b1146",
   "metadata": {},
   "outputs": [
    {
     "data": {
      "text/plain": [
       "5"
      ]
     },
     "execution_count": 7,
     "metadata": {},
     "output_type": "execute_result"
    }
   ],
   "source": [
    "y_train[0]"
   ]
  },
  {
   "cell_type": "markdown",
   "id": "fb6e2881",
   "metadata": {},
   "source": [
    "# Normaliziation "
   ]
  },
  {
   "cell_type": "code",
   "execution_count": 8,
   "id": "d848fbec",
   "metadata": {},
   "outputs": [
    {
     "data": {
      "text/plain": [
       "array([0.01960784, 0.        , 0.01568627, ..., 0.01960784, 0.02352941,\n",
       "       0.03137255])"
      ]
     },
     "execution_count": 8,
     "metadata": {},
     "output_type": "execute_result"
    }
   ],
   "source": [
    "X_train/255\n",
    "y_train/255"
   ]
  },
  {
   "cell_type": "code",
   "execution_count": 9,
   "id": "5546618b",
   "metadata": {},
   "outputs": [
    {
     "data": {
      "text/plain": [
       "array([[  0,   0,   0,   0,   0,   0,   0,   0,   0,   0,   0,   0,   0,\n",
       "          0,   0,   0,   0,   0,   0,   0,   0,   0,   0,   0,   0,   0,\n",
       "          0,   0],\n",
       "       [  0,   0,   0,   0,   0,   0,   0,   0,   0,   0,   0,   0,   0,\n",
       "          0,   0,   0,   0,   0,   0,   0,   0,   0,   0,   0,   0,   0,\n",
       "          0,   0],\n",
       "       [  0,   0,   0,   0,   0,   0,   0,   0,   0,   0,   0,   0,   0,\n",
       "          0,   0,   0,   0,   0,   0,   0,   0,   0,   0,   0,   0,   0,\n",
       "          0,   0],\n",
       "       [  0,   0,   0,   0,   0,   0,   0,   0,   0,   0,   0,   0,   0,\n",
       "          0,   0,   0,   0,   0,   0,   0,   0,   0,   0,   0,   0,   0,\n",
       "          0,   0],\n",
       "       [  0,   0,   0,   0,   0,   0,   0,   0,   0,   0,   0,   0,   0,\n",
       "          0,   0,   0,   0,   0,   0,   0,   0,   0,   0,   0,   0,   0,\n",
       "          0,   0],\n",
       "       [  0,   0,   0,   0,   0,   0,   0,   0,   0,   0,   0,   0,   3,\n",
       "         18,  18,  18, 126, 136, 175,  26, 166, 255, 247, 127,   0,   0,\n",
       "          0,   0],\n",
       "       [  0,   0,   0,   0,   0,   0,   0,   0,  30,  36,  94, 154, 170,\n",
       "        253, 253, 253, 253, 253, 225, 172, 253, 242, 195,  64,   0,   0,\n",
       "          0,   0],\n",
       "       [  0,   0,   0,   0,   0,   0,   0,  49, 238, 253, 253, 253, 253,\n",
       "        253, 253, 253, 253, 251,  93,  82,  82,  56,  39,   0,   0,   0,\n",
       "          0,   0],\n",
       "       [  0,   0,   0,   0,   0,   0,   0,  18, 219, 253, 253, 253, 253,\n",
       "        253, 198, 182, 247, 241,   0,   0,   0,   0,   0,   0,   0,   0,\n",
       "          0,   0],\n",
       "       [  0,   0,   0,   0,   0,   0,   0,   0,  80, 156, 107, 253, 253,\n",
       "        205,  11,   0,  43, 154,   0,   0,   0,   0,   0,   0,   0,   0,\n",
       "          0,   0],\n",
       "       [  0,   0,   0,   0,   0,   0,   0,   0,   0,  14,   1, 154, 253,\n",
       "         90,   0,   0,   0,   0,   0,   0,   0,   0,   0,   0,   0,   0,\n",
       "          0,   0],\n",
       "       [  0,   0,   0,   0,   0,   0,   0,   0,   0,   0,   0, 139, 253,\n",
       "        190,   2,   0,   0,   0,   0,   0,   0,   0,   0,   0,   0,   0,\n",
       "          0,   0],\n",
       "       [  0,   0,   0,   0,   0,   0,   0,   0,   0,   0,   0,  11, 190,\n",
       "        253,  70,   0,   0,   0,   0,   0,   0,   0,   0,   0,   0,   0,\n",
       "          0,   0],\n",
       "       [  0,   0,   0,   0,   0,   0,   0,   0,   0,   0,   0,   0,  35,\n",
       "        241, 225, 160, 108,   1,   0,   0,   0,   0,   0,   0,   0,   0,\n",
       "          0,   0],\n",
       "       [  0,   0,   0,   0,   0,   0,   0,   0,   0,   0,   0,   0,   0,\n",
       "         81, 240, 253, 253, 119,  25,   0,   0,   0,   0,   0,   0,   0,\n",
       "          0,   0],\n",
       "       [  0,   0,   0,   0,   0,   0,   0,   0,   0,   0,   0,   0,   0,\n",
       "          0,  45, 186, 253, 253, 150,  27,   0,   0,   0,   0,   0,   0,\n",
       "          0,   0],\n",
       "       [  0,   0,   0,   0,   0,   0,   0,   0,   0,   0,   0,   0,   0,\n",
       "          0,   0,  16,  93, 252, 253, 187,   0,   0,   0,   0,   0,   0,\n",
       "          0,   0],\n",
       "       [  0,   0,   0,   0,   0,   0,   0,   0,   0,   0,   0,   0,   0,\n",
       "          0,   0,   0,   0, 249, 253, 249,  64,   0,   0,   0,   0,   0,\n",
       "          0,   0],\n",
       "       [  0,   0,   0,   0,   0,   0,   0,   0,   0,   0,   0,   0,   0,\n",
       "          0,  46, 130, 183, 253, 253, 207,   2,   0,   0,   0,   0,   0,\n",
       "          0,   0],\n",
       "       [  0,   0,   0,   0,   0,   0,   0,   0,   0,   0,   0,   0,  39,\n",
       "        148, 229, 253, 253, 253, 250, 182,   0,   0,   0,   0,   0,   0,\n",
       "          0,   0],\n",
       "       [  0,   0,   0,   0,   0,   0,   0,   0,   0,   0,  24, 114, 221,\n",
       "        253, 253, 253, 253, 201,  78,   0,   0,   0,   0,   0,   0,   0,\n",
       "          0,   0],\n",
       "       [  0,   0,   0,   0,   0,   0,   0,   0,  23,  66, 213, 253, 253,\n",
       "        253, 253, 198,  81,   2,   0,   0,   0,   0,   0,   0,   0,   0,\n",
       "          0,   0],\n",
       "       [  0,   0,   0,   0,   0,   0,  18, 171, 219, 253, 253, 253, 253,\n",
       "        195,  80,   9,   0,   0,   0,   0,   0,   0,   0,   0,   0,   0,\n",
       "          0,   0],\n",
       "       [  0,   0,   0,   0,  55, 172, 226, 253, 253, 253, 253, 244, 133,\n",
       "         11,   0,   0,   0,   0,   0,   0,   0,   0,   0,   0,   0,   0,\n",
       "          0,   0],\n",
       "       [  0,   0,   0,   0, 136, 253, 253, 253, 212, 135, 132,  16,   0,\n",
       "          0,   0,   0,   0,   0,   0,   0,   0,   0,   0,   0,   0,   0,\n",
       "          0,   0],\n",
       "       [  0,   0,   0,   0,   0,   0,   0,   0,   0,   0,   0,   0,   0,\n",
       "          0,   0,   0,   0,   0,   0,   0,   0,   0,   0,   0,   0,   0,\n",
       "          0,   0],\n",
       "       [  0,   0,   0,   0,   0,   0,   0,   0,   0,   0,   0,   0,   0,\n",
       "          0,   0,   0,   0,   0,   0,   0,   0,   0,   0,   0,   0,   0,\n",
       "          0,   0],\n",
       "       [  0,   0,   0,   0,   0,   0,   0,   0,   0,   0,   0,   0,   0,\n",
       "          0,   0,   0,   0,   0,   0,   0,   0,   0,   0,   0,   0,   0,\n",
       "          0,   0]], dtype=uint8)"
      ]
     },
     "execution_count": 9,
     "metadata": {},
     "output_type": "execute_result"
    }
   ],
   "source": [
    "X_train[0]"
   ]
  },
  {
   "cell_type": "code",
   "execution_count": 10,
   "id": "8049caff",
   "metadata": {},
   "outputs": [
    {
     "data": {
      "text/plain": [
       "5"
      ]
     },
     "execution_count": 10,
     "metadata": {},
     "output_type": "execute_result"
    }
   ],
   "source": [
    "y_train[0]\n"
   ]
  },
  {
   "cell_type": "code",
   "execution_count": 11,
   "id": "bacf56bc",
   "metadata": {},
   "outputs": [
    {
     "data": {
      "image/png": "[encoded data removed]",
      "text/plain": [
       "<Figure size 720x216 with 20 Axes>"
      ]
     },
     "metadata": {},
     "output_type": "display_data"
    }
   ],
   "source": [
    "#plotting images of dataset \n",
    "\n",
    "fig = plt.figure(figsize = (10,3))\n",
    "\n",
    "for i in range(20):\n",
    "\n",
    "    ax= fig.add_subplot(2, 10, i+1, xticks=[], yticks=[])\n",
    "\n",
    "    ax.imshow(np.squeeze(X_train[i]), cmap='gray')\n",
    "\n",
    "    ax.set_title(y_train[i])"
   ]
  },
  {
   "cell_type": "code",
   "execution_count": 16,
   "id": "e4b9ee9c",
   "metadata": {},
   "outputs": [],
   "source": [
    "#reshaping train and test sets/ Standardization\n",
    "\n",
    "X_train = X_train.reshape((X_train.shape[0],X_train.shape[1], X_train.shape[2], 1))\n",
    "\n",
    "X_test = X_test .reshape((X_test.shape[0], X_test.shape[1], X_test.shape[2], 1))"
   ]
  },
  {
   "cell_type": "code",
   "execution_count": 94,
   "id": "3c32ee52",
   "metadata": {},
   "outputs": [],
   "source": [
    "#9. Implement a Multi-class neural network with a multiple hidden layer for MNSIT using keras libary\n",
    "\n",
    "model1 = keras.models.Sequential([\n",
    "                         # reshape 28 row * 28 column data to 28*28 rows\n",
    "                         keras.layers.Flatten(input_shape=[28,28]),\n",
    "                         #dense layer 1\n",
    "                         keras.layers.Dense(units=256, activation='sigmoid'),\n",
    "                         # dense layer 2\n",
    "                         keras.layers.Dense(units=128, activation='sigmoid'),\n",
    "                         # dense layer 3\n",
    "                         keras.layers.Dense(units=64, activation='relu'),\n",
    "                         # output layer\n",
    "                         keras.layers.Dense(units=10, activation='softmax'),\n",
    "])\n",
    "    \n",
    "    \n",
    "    \n",
    "                         \n",
    "    \n",
    "    \n",
    "    \n",
    "                        "
   ]
  },
  {
   "cell_type": "code",
   "execution_count": 91,
   "id": "753101d6",
   "metadata": {},
   "outputs": [],
   "source": [
    "model = Sequential([\n",
    "    \n",
    "    # reshape 28 row * 28 column data to 28*28 rows\n",
    "    Flatten(input_shape=(28, 28)),\n",
    "    \n",
    "      # dense layer 1\n",
    "    Dense(256, activation='sigmoid'),  \n",
    "    \n",
    "    # dense layer 2\n",
    "    Dense(128, activation='sigmoid'), \n",
    "    \n",
    "      # output layer\n",
    "    Dense(10, activation='sigmoid'),  \n",
    "])"
   ]
  },
  {
   "cell_type": "code",
   "execution_count": 95,
   "id": "58877fb1",
   "metadata": {},
   "outputs": [
    {
     "name": "stdout",
     "output_type": "stream",
     "text": [
      "Model: \"sequential_21\"\n",
      "_________________________________________________________________\n",
      " Layer (type)                Output Shape              Param #   \n",
      "=================================================================\n",
      " flatten_22 (Flatten)        (None, 784)               0         \n",
      "                                                                 \n",
      " dense_82 (Dense)            (None, 256)               200960    \n",
      "                                                                 \n",
      " dense_83 (Dense)            (None, 128)               32896     \n",
      "                                                                 \n",
      " dense_84 (Dense)            (None, 64)                8256      \n",
      "                                                                 \n",
      " dense_85 (Dense)            (None, 10)                650       \n",
      "                                                                 \n",
      "=================================================================\n",
      "Total params: 242,762\n",
      "Trainable params: 242,762\n",
      "Non-trainable params: 0\n",
      "_________________________________________________________________\n"
     ]
    }
   ],
   "source": [
    "model1.summary()"
   ]
  },
  {
   "cell_type": "code",
   "execution_count": 96,
   "id": "4c6afda2",
   "metadata": {},
   "outputs": [],
   "source": [
    "#complie model with different optimizer [adam]\n",
    "\n",
    "model1.compile(optimizer='adam', loss='sparse_categorical_crossentropy', metrics=['accuracy'])"
   ]
  },
  {
   "cell_type": "code",
   "execution_count": 97,
   "id": "f7a3626d",
   "metadata": {},
   "outputs": [
    {
     "name": "stdout",
     "output_type": "stream",
     "text": [
      "Epoch 1/10\n",
      "2400/2400 - 9s - loss: 0.5288 - accuracy: 0.8380 - val_loss: 0.3749 - val_accuracy: 0.8808 - 9s/epoch - 4ms/step\n",
      "Epoch 2/10\n",
      "2400/2400 - 8s - loss: 0.3657 - accuracy: 0.8841 - val_loss: 0.3292 - val_accuracy: 0.8988 - 8s/epoch - 3ms/step\n",
      "Epoch 3/10\n",
      "2400/2400 - 9s - loss: 0.3140 - accuracy: 0.9019 - val_loss: 0.2861 - val_accuracy: 0.9081 - 9s/epoch - 4ms/step\n",
      "Epoch 4/10\n",
      "2400/2400 - 10s - loss: 0.2880 - accuracy: 0.9097 - val_loss: 0.2433 - val_accuracy: 0.9260 - 10s/epoch - 4ms/step\n",
      "Epoch 5/10\n",
      "2400/2400 - 9s - loss: 0.2580 - accuracy: 0.9189 - val_loss: 0.2167 - val_accuracy: 0.9333 - 9s/epoch - 4ms/step\n",
      "Epoch 6/10\n",
      "2400/2400 - 9s - loss: 0.2347 - accuracy: 0.9258 - val_loss: 0.2182 - val_accuracy: 0.9305 - 9s/epoch - 4ms/step\n",
      "Epoch 7/10\n",
      "2400/2400 - 10s - loss: 0.2186 - accuracy: 0.9302 - val_loss: 0.1860 - val_accuracy: 0.9410 - 10s/epoch - 4ms/step\n",
      "Epoch 8/10\n",
      "2400/2400 - 8s - loss: 0.2067 - accuracy: 0.9337 - val_loss: 0.1994 - val_accuracy: 0.9377 - 8s/epoch - 3ms/step\n",
      "Epoch 9/10\n",
      "2400/2400 - 8s - loss: 0.1939 - accuracy: 0.9386 - val_loss: 0.1983 - val_accuracy: 0.9380 - 8s/epoch - 3ms/step\n",
      "Epoch 10/10\n",
      "2400/2400 - 7s - loss: 0.1777 - accuracy: 0.9432 - val_loss: 0.1723 - val_accuracy: 0.9483 - 7s/epoch - 3ms/step\n"
     ]
    }
   ],
   "source": [
    "#Train the model\n",
    "history=model1.fit(X_train,y_train,epochs=10,validation_split=0.20, \n",
    "    batch_size=20, \n",
    "    verbose=2)\n"
   ]
  },
  {
   "cell_type": "code",
   "execution_count": 40,
   "id": "645eee8a",
   "metadata": {},
   "outputs": [],
   "source": [
    "# Test and optimize the model\n",
    "# Make Predictions"
   ]
  },
  {
   "cell_type": "code",
   "execution_count": 41,
   "id": "8173afa7",
   "metadata": {},
   "outputs": [
    {
     "name": "stdout",
     "output_type": "stream",
     "text": [
      "Epoch 1/10\n",
      "400/400 - 2s - loss: 0.3824 - accuracy: 0.8774 - val_loss: 0.2698 - val_accuracy: 0.9200 - 2s/epoch - 6ms/step\n",
      "Epoch 2/10\n",
      "400/400 - 2s - loss: 0.3908 - accuracy: 0.8745 - val_loss: 0.2743 - val_accuracy: 0.9210 - 2s/epoch - 5ms/step\n",
      "Epoch 3/10\n",
      "400/400 - 2s - loss: 0.3827 - accuracy: 0.8809 - val_loss: 0.2689 - val_accuracy: 0.9185 - 2s/epoch - 5ms/step\n",
      "Epoch 4/10\n",
      "400/400 - 2s - loss: 0.3906 - accuracy: 0.8760 - val_loss: 0.2568 - val_accuracy: 0.9220 - 2s/epoch - 6ms/step\n",
      "Epoch 5/10\n",
      "400/400 - 2s - loss: 0.3430 - accuracy: 0.8898 - val_loss: 0.2736 - val_accuracy: 0.9120 - 2s/epoch - 5ms/step\n",
      "Epoch 6/10\n",
      "400/400 - 2s - loss: 0.3621 - accuracy: 0.8924 - val_loss: 0.2643 - val_accuracy: 0.9180 - 2s/epoch - 5ms/step\n",
      "Epoch 7/10\n",
      "400/400 - 2s - loss: 0.3371 - accuracy: 0.8966 - val_loss: 0.2695 - val_accuracy: 0.9165 - 2s/epoch - 5ms/step\n",
      "Epoch 8/10\n",
      "400/400 - 2s - loss: 0.3411 - accuracy: 0.8940 - val_loss: 0.2925 - val_accuracy: 0.9065 - 2s/epoch - 5ms/step\n",
      "Epoch 9/10\n",
      "400/400 - 2s - loss: 0.3432 - accuracy: 0.8930 - val_loss: 0.3247 - val_accuracy: 0.8990 - 2s/epoch - 5ms/step\n",
      "Epoch 10/10\n",
      "400/400 - 2s - loss: 0.3495 - accuracy: 0.8876 - val_loss: 0.3079 - val_accuracy: 0.9055 - 2s/epoch - 5ms/step\n"
     ]
    }
   ],
   "source": [
    "history=model1.fit(X_test,y_test,epochs=10,validation_split=0.20, \n",
    "    batch_size=20, \n",
    "    verbose=2)"
   ]
  },
  {
   "cell_type": "code",
   "execution_count": 42,
   "id": "aba56d1e",
   "metadata": {},
   "outputs": [
    {
     "name": "stdout",
     "output_type": "stream",
     "text": [
      "Accuracy: 89.42000269889832\n"
     ]
    }
   ],
   "source": [
    "loss, accuracy= model1.evaluate(X_test, y_test, verbose = 0)\n",
    "\n",
    "print(f'Accuracy: {accuracy*100}')"
   ]
  },
  {
   "cell_type": "code",
   "execution_count": 43,
   "id": "a63e705f",
   "metadata": {},
   "outputs": [
    {
     "name": "stdout",
     "output_type": "stream",
     "text": [
      "313/313 [==============================] - 2s 4ms/step\n"
     ]
    }
   ],
   "source": [
    "y_pred = model1.predict(X_test)"
   ]
  },
  {
   "cell_type": "code",
   "execution_count": 44,
   "id": "9f21400e",
   "metadata": {},
   "outputs": [],
   "source": [
    "from sklearn.metrics import confusion_matrix\n",
    "\n",
    "\n",
    "confusion=confusion_matrix(y_test, np.argmax(y_pred,axis=1))\n"
   ]
  },
  {
   "cell_type": "code",
   "execution_count": 45,
   "id": "ebf90525",
   "metadata": {},
   "outputs": [
    {
     "name": "stdout",
     "output_type": "stream",
     "text": [
      "[[ 917    0    9    4    5   21   20    2    2    0]\n",
      " [   0 1095    4    3    1    3    6    2   20    1]\n",
      " [  12    2  915   17   17    4   22   10   27    6]\n",
      " [   3    1   24  876    1   49    2   17   27   10]\n",
      " [   0    0    4    0  879    8   28    3   19   41]\n",
      " [  20    2    7   41    4  778   22    0   14    4]\n",
      " [   6    3    2    1    8   15  914    1    8    0]\n",
      " [   8    5   25    5    8   12    0  922   17   26]\n",
      " [   5    5   12   21    7   31   25    4  842   22]\n",
      " [   9    5    0    7   87   23    3   29   42  804]]\n"
     ]
    }
   ],
   "source": [
    "print(confusion)"
   ]
  },
  {
   "cell_type": "code",
   "execution_count": 46,
   "id": "5e44ebdd",
   "metadata": {},
   "outputs": [],
   "source": [
    "from sklearn.metrics import classification_report\n",
    "\n",
    "c =classification_report(y_test, np.argmax(y_pred,axis=1))"
   ]
  },
  {
   "cell_type": "code",
   "execution_count": 47,
   "id": "46d323ab",
   "metadata": {},
   "outputs": [
    {
     "name": "stdout",
     "output_type": "stream",
     "text": [
      "              precision    recall  f1-score   support\n",
      "\n",
      "           0       0.94      0.94      0.94       980\n",
      "           1       0.98      0.96      0.97      1135\n",
      "           2       0.91      0.89      0.90      1032\n",
      "           3       0.90      0.87      0.88      1010\n",
      "           4       0.86      0.90      0.88       982\n",
      "           5       0.82      0.87      0.85       892\n",
      "           6       0.88      0.95      0.91       958\n",
      "           7       0.93      0.90      0.91      1028\n",
      "           8       0.83      0.86      0.85       974\n",
      "           9       0.88      0.80      0.84      1009\n",
      "\n",
      "    accuracy                           0.89     10000\n",
      "   macro avg       0.89      0.89      0.89     10000\n",
      "weighted avg       0.90      0.89      0.89     10000\n",
      "\n"
     ]
    }
   ],
   "source": [
    "print(c)"
   ]
  },
  {
   "cell_type": "code",
   "execution_count": 48,
   "id": "b7047a7b",
   "metadata": {},
   "outputs": [],
   "source": [
    "#plotting loss plot"
   ]
  },
  {
   "cell_type": "code",
   "execution_count": 49,
   "id": "917c1ff1",
   "metadata": {},
   "outputs": [
    {
     "data": {
      "image/png": "[encoded data removed]",
      "text/plain": [
       "<Figure size 1080x1080 with 1 Axes>"
      ]
     },
     "metadata": {
      "needs_background": "light"
     },
     "output_type": "display_data"
    }
   ],
   "source": [
    "acc = history.history['accuracy']\n",
    "val_acc = history.history['val_accuracy']\n",
    "loss = history.history['loss']\n",
    "val_loss = history.history['val_loss']\n",
    "epochs_range = range(len(acc))\n",
    "plt.figure(figsize=(15, 15))\n",
    "plt.subplot(2, 2, 2)\n",
    "plt.plot(epochs_range, loss, label='Training Loss')\n",
    "plt.plot(epochs_range, val_loss, label='Validation Loss')\n",
    "plt.legend(loc='upper right')\n",
    "plt.title('Training and Validation Loss')\n",
    "plt.show()\n"
   ]
  },
  {
   "cell_type": "code",
   "execution_count": 98,
   "id": "a31b6716",
   "metadata": {},
   "outputs": [],
   "source": [
    "#9. Implement a Multi-class neural network with a multiple hidden layer using droupout for MNSIT using keras libary\n",
    "\n",
    "model1 = keras.models.Sequential([\n",
    "                         keras.layers.Flatten(input_shape=[28,28]),\n",
    "                         keras.layers.Dense(units=256, activation='sigmoid'),Dropout(0.25),\n",
    "                         keras.layers.Dense(units=128, activation='sigmoid'),Dropout(0.25),\n",
    "                         keras.layers.Dense(units=64, activation='relu'),\n",
    "                         keras.layers.Dense(units=10, activation='softmax'),\n",
    "])\n",
    "    \n",
    "    \n",
    " "
   ]
  },
  {
   "cell_type": "code",
   "execution_count": 99,
   "id": "b4144728",
   "metadata": {},
   "outputs": [
    {
     "name": "stdout",
     "output_type": "stream",
     "text": [
      "Model: \"sequential_22\"\n",
      "_________________________________________________________________\n",
      " Layer (type)                Output Shape              Param #   \n",
      "=================================================================\n",
      " flatten_23 (Flatten)        (None, 784)               0         \n",
      "                                                                 \n",
      " dense_86 (Dense)            (None, 256)               200960    \n",
      "                                                                 \n",
      " dropout_6 (Dropout)         (None, 256)               0         \n",
      "                                                                 \n",
      " dense_87 (Dense)            (None, 128)               32896     \n",
      "                                                                 \n",
      " dropout_7 (Dropout)         (None, 128)               0         \n",
      "                                                                 \n",
      " dense_88 (Dense)            (None, 64)                8256      \n",
      "                                                                 \n",
      " dense_89 (Dense)            (None, 10)                650       \n",
      "                                                                 \n",
      "=================================================================\n",
      "Total params: 242,762\n",
      "Trainable params: 242,762\n",
      "Non-trainable params: 0\n",
      "_________________________________________________________________\n"
     ]
    }
   ],
   "source": [
    "model1.summary()"
   ]
  },
  {
   "cell_type": "code",
   "execution_count": 100,
   "id": "c9281082",
   "metadata": {},
   "outputs": [],
   "source": [
    "#complie model with different optimizer [adam]\n",
    "\n",
    "model1.compile(optimizer='adam', loss='sparse_categorical_crossentropy', metrics=['accuracy'])"
   ]
  },
  {
   "cell_type": "code",
   "execution_count": 101,
   "id": "6b861fb0",
   "metadata": {},
   "outputs": [
    {
     "name": "stdout",
     "output_type": "stream",
     "text": [
      "Epoch 1/10\n",
      "2400/2400 - 8s - loss: 0.7212 - accuracy: 0.7655 - val_loss: 0.3694 - val_accuracy: 0.8878 - 8s/epoch - 4ms/step\n",
      "Epoch 2/10\n",
      "2400/2400 - 8s - loss: 0.4774 - accuracy: 0.8463 - val_loss: 0.2774 - val_accuracy: 0.9169 - 8s/epoch - 3ms/step\n",
      "Epoch 3/10\n",
      "2400/2400 - 8s - loss: 0.4170 - accuracy: 0.8657 - val_loss: 0.2498 - val_accuracy: 0.9247 - 8s/epoch - 3ms/step\n",
      "Epoch 4/10\n",
      "2400/2400 - 8s - loss: 0.3838 - accuracy: 0.8791 - val_loss: 0.2323 - val_accuracy: 0.9270 - 8s/epoch - 3ms/step\n",
      "Epoch 5/10\n",
      "2400/2400 - 8s - loss: 0.3492 - accuracy: 0.8887 - val_loss: 0.2126 - val_accuracy: 0.9333 - 8s/epoch - 3ms/step\n",
      "Epoch 6/10\n",
      "2400/2400 - 9s - loss: 0.3269 - accuracy: 0.8976 - val_loss: 0.2123 - val_accuracy: 0.9348 - 9s/epoch - 4ms/step\n",
      "Epoch 7/10\n",
      "2400/2400 - 10s - loss: 0.3133 - accuracy: 0.9016 - val_loss: 0.2050 - val_accuracy: 0.9376 - 10s/epoch - 4ms/step\n",
      "Epoch 8/10\n",
      "2400/2400 - 9s - loss: 0.2900 - accuracy: 0.9078 - val_loss: 0.1902 - val_accuracy: 0.9423 - 9s/epoch - 4ms/step\n",
      "Epoch 9/10\n",
      "2400/2400 - 8s - loss: 0.2750 - accuracy: 0.9124 - val_loss: 0.1691 - val_accuracy: 0.9477 - 8s/epoch - 3ms/step\n",
      "Epoch 10/10\n",
      "2400/2400 - 8s - loss: 0.2680 - accuracy: 0.9160 - val_loss: 0.1659 - val_accuracy: 0.9480 - 8s/epoch - 3ms/step\n"
     ]
    }
   ],
   "source": [
    "#Train the model\n",
    "history1=model1.fit(X_train,y_train,epochs=10,validation_split=0.20, \n",
    "    batch_size=20, \n",
    "    verbose=2)\n"
   ]
  },
  {
   "cell_type": "code",
   "execution_count": 102,
   "id": "089e533e",
   "metadata": {},
   "outputs": [],
   "source": [
    "from tensorflow.keras import regularizers\n",
    "#9. Implement a Multi-class neural network with a multiple hidden layer usin l2 regulation for MNSIT using keras libary\n",
    "\n",
    "model2 = keras.models.Sequential([\n",
    "                         keras.layers.Flatten(input_shape=[28,28]),\n",
    "                         keras.layers.Dense(units=256, activation='sigmoid',kernel_regularizer=regularizers.l2(0.0001)),\n",
    "                         keras.layers.Dense(units=128, activation='sigmoid',kernel_regularizer=regularizers.l2(0.0001)),\n",
    "                         keras.layers.Dense(units=64, activation='relu'),\n",
    "                         keras.layers.Dense(units=10, activation='softmax'),\n",
    "])\n",
    "    \n",
    "    \n",
    " "
   ]
  },
  {
   "cell_type": "code",
   "execution_count": 103,
   "id": "46f55d4e",
   "metadata": {},
   "outputs": [
    {
     "name": "stdout",
     "output_type": "stream",
     "text": [
      "Model: \"sequential_23\"\n",
      "_________________________________________________________________\n",
      " Layer (type)                Output Shape              Param #   \n",
      "=================================================================\n",
      " flatten_24 (Flatten)        (None, 784)               0         \n",
      "                                                                 \n",
      " dense_90 (Dense)            (None, 256)               200960    \n",
      "                                                                 \n",
      " dense_91 (Dense)            (None, 128)               32896     \n",
      "                                                                 \n",
      " dense_92 (Dense)            (None, 64)                8256      \n",
      "                                                                 \n",
      " dense_93 (Dense)            (None, 10)                650       \n",
      "                                                                 \n",
      "=================================================================\n",
      "Total params: 242,762\n",
      "Trainable params: 242,762\n",
      "Non-trainable params: 0\n",
      "_________________________________________________________________\n"
     ]
    }
   ],
   "source": [
    "model2.summary()"
   ]
  },
  {
   "cell_type": "code",
   "execution_count": 104,
   "id": "e7ce4c98",
   "metadata": {},
   "outputs": [],
   "source": [
    "#complie model with different optimizer [adam]\n",
    "\n",
    "model2.compile(optimizer='adam', loss='sparse_categorical_crossentropy', metrics=['accuracy'])"
   ]
  },
  {
   "cell_type": "code",
   "execution_count": 105,
   "id": "facd3f72",
   "metadata": {},
   "outputs": [
    {
     "name": "stdout",
     "output_type": "stream",
     "text": [
      "Epoch 1/10\n",
      "2400/2400 - 8s - loss: 0.2613 - accuracy: 0.9187 - val_loss: 0.1595 - val_accuracy: 0.9483 - 8s/epoch - 3ms/step\n",
      "Epoch 2/10\n",
      "2400/2400 - 10s - loss: 0.2496 - accuracy: 0.9223 - val_loss: 0.1669 - val_accuracy: 0.9474 - 10s/epoch - 4ms/step\n",
      "Epoch 3/10\n",
      "2400/2400 - 9s - loss: 0.2521 - accuracy: 0.9205 - val_loss: 0.1740 - val_accuracy: 0.9463 - 9s/epoch - 4ms/step\n",
      "Epoch 4/10\n",
      "2400/2400 - 9s - loss: 0.2525 - accuracy: 0.9214 - val_loss: 0.1565 - val_accuracy: 0.9517 - 9s/epoch - 4ms/step\n",
      "Epoch 5/10\n",
      "2400/2400 - 8s - loss: 0.2320 - accuracy: 0.9277 - val_loss: 0.1505 - val_accuracy: 0.9531 - 8s/epoch - 3ms/step\n",
      "Epoch 6/10\n",
      "2400/2400 - 8s - loss: 0.2259 - accuracy: 0.9286 - val_loss: 0.1514 - val_accuracy: 0.9513 - 8s/epoch - 3ms/step\n",
      "Epoch 7/10\n",
      "2400/2400 - 8s - loss: 0.2274 - accuracy: 0.9276 - val_loss: 0.1419 - val_accuracy: 0.9549 - 8s/epoch - 3ms/step\n",
      "Epoch 8/10\n",
      "2400/2400 - 8s - loss: 0.2213 - accuracy: 0.9296 - val_loss: 0.1450 - val_accuracy: 0.9557 - 8s/epoch - 3ms/step\n",
      "Epoch 9/10\n",
      "2400/2400 - 8s - loss: 0.2155 - accuracy: 0.9320 - val_loss: 0.1438 - val_accuracy: 0.9550 - 8s/epoch - 3ms/step\n",
      "Epoch 10/10\n",
      "2400/2400 - 8s - loss: 0.2136 - accuracy: 0.9333 - val_loss: 0.1397 - val_accuracy: 0.9577 - 8s/epoch - 3ms/step\n"
     ]
    }
   ],
   "source": [
    "#Train the model\n",
    "history2=model1.fit(X_train,y_train,epochs=10,validation_split=0.20, \n",
    "    batch_size=20, \n",
    "    verbose=2)\n"
   ]
  },
  {
   "cell_type": "code",
   "execution_count": 106,
   "id": "71e71761",
   "metadata": {},
   "outputs": [],
   "source": [
    "# L1\n",
    "#9. Implement a Multi-class neural network with a multiple hidden layer using l1 regulation for MNSIT using keras libary\n",
    "model3 = keras.models.Sequential([\n",
    "                         keras.layers.Flatten(input_shape=[28,28]),\n",
    "                         keras.layers.Dense(units=256, activation='sigmoid',kernel_regularizer=regularizers.l1(0.0001)),\n",
    "                         keras.layers.Dense(units=128, activation='sigmoid',kernel_regularizer=regularizers.l1(0.0001)),\n",
    "                         keras.layers.Dense(units=64, activation='relu'),\n",
    "                         keras.layers.Dense(units=10, activation='softmax'),\n",
    "])\n",
    "  "
   ]
  },
  {
   "cell_type": "code",
   "execution_count": 107,
   "id": "7c44a1ec",
   "metadata": {},
   "outputs": [],
   "source": [
    "#complie model with different optimizer [adam]\n",
    "\n",
    "model3.compile(optimizer='adam', loss='sparse_categorical_crossentropy', metrics=['accuracy'])"
   ]
  },
  {
   "cell_type": "code",
   "execution_count": 108,
   "id": "af4cc4a1",
   "metadata": {},
   "outputs": [
    {
     "name": "stdout",
     "output_type": "stream",
     "text": [
      "Epoch 1/10\n",
      "2400/2400 - 8s - loss: 0.2092 - accuracy: 0.9343 - val_loss: 0.1316 - val_accuracy: 0.9609 - 8s/epoch - 3ms/step\n",
      "Epoch 2/10\n",
      "2400/2400 - 8s - loss: 0.2013 - accuracy: 0.9364 - val_loss: 0.1349 - val_accuracy: 0.9580 - 8s/epoch - 3ms/step\n",
      "Epoch 3/10\n",
      "2400/2400 - 8s - loss: 0.2001 - accuracy: 0.9365 - val_loss: 0.1335 - val_accuracy: 0.9567 - 8s/epoch - 3ms/step\n",
      "Epoch 4/10\n",
      "2400/2400 - 8s - loss: 0.2034 - accuracy: 0.9364 - val_loss: 0.1382 - val_accuracy: 0.9606 - 8s/epoch - 3ms/step\n",
      "Epoch 5/10\n",
      "2400/2400 - 8s - loss: 0.2045 - accuracy: 0.9347 - val_loss: 0.1388 - val_accuracy: 0.9566 - 8s/epoch - 3ms/step\n",
      "Epoch 6/10\n",
      "2400/2400 - 8s - loss: 0.1975 - accuracy: 0.9378 - val_loss: 0.1359 - val_accuracy: 0.9588 - 8s/epoch - 3ms/step\n",
      "Epoch 7/10\n",
      "2400/2400 - 8s - loss: 0.1980 - accuracy: 0.9382 - val_loss: 0.1307 - val_accuracy: 0.9596 - 8s/epoch - 3ms/step\n",
      "Epoch 8/10\n",
      "2400/2400 - 8s - loss: 0.1912 - accuracy: 0.9409 - val_loss: 0.1373 - val_accuracy: 0.9581 - 8s/epoch - 3ms/step\n",
      "Epoch 9/10\n",
      "2400/2400 - 8s - loss: 0.1896 - accuracy: 0.9405 - val_loss: 0.1301 - val_accuracy: 0.9607 - 8s/epoch - 3ms/step\n",
      "Epoch 10/10\n",
      "2400/2400 - 8s - loss: 0.1843 - accuracy: 0.9419 - val_loss: 0.1274 - val_accuracy: 0.9614 - 8s/epoch - 3ms/step\n"
     ]
    }
   ],
   "source": [
    "#Train the model\n",
    "history3=model1.fit(X_train,y_train,epochs=10,validation_split=0.20, \n",
    "    batch_size=20, \n",
    "    verbose=2)\n"
   ]
  },
  {
   "cell_type": "code",
   "execution_count": 112,
   "id": "e42ae224",
   "metadata": {},
   "outputs": [
    {
     "data": {
      "image/png": "[encoded data removed]",
      "text/plain": [
       "<Figure size 1080x1080 with 1 Axes>"
      ]
     },
     "metadata": {
      "needs_background": "light"
     },
     "output_type": "display_data"
    },
    {
     "data": {
      "image/png": "[encoded data removed]",
      "text/plain": [
       "<Figure size 1080x1080 with 1 Axes>"
      ]
     },
     "metadata": {
      "needs_background": "light"
     },
     "output_type": "display_data"
    },
    {
     "data": {
      "image/png": "[encoded data removed]",
      "text/plain": [
       "<Figure size 1080x1080 with 1 Axes>"
      ]
     },
     "metadata": {
      "needs_background": "light"
     },
     "output_type": "display_data"
    }
   ],
   "source": [
    "acc = history1.history['accuracy']\n",
    "val_acc = history.history['val_accuracy']\n",
    "loss = history.history['loss']\n",
    "val_loss = history.history['val_loss']\n",
    "epochs_range = range(len(acc))\n",
    "plt.figure(figsize=(15, 15))\n",
    "plt.subplot(2, 2, 1)\n",
    "plt.plot(epochs_range, loss, label='Training Loss')\n",
    "plt.plot(epochs_range, val_loss, label='Validation Loss')\n",
    "plt.legend(loc='upper right')\n",
    "plt.title('Training and Validation Loss/Dropout')\n",
    "plt.show()\n",
    "\n",
    "acc = history2.history['accuracy']\n",
    "val_acc = history.history['val_accuracy']\n",
    "loss = history.history['loss']\n",
    "val_loss = history.history['val_loss']\n",
    "epochs_range = range(len(acc))\n",
    "plt.figure(figsize=(15, 15))\n",
    "plt.subplot(2, 2, 2)\n",
    "plt.plot(epochs_range, loss, label='Training Loss')\n",
    "plt.plot(epochs_range, val_loss, label='Validation Loss')\n",
    "plt.legend(loc='upper right')\n",
    "plt.title('Training and Validation Loss/L2')\n",
    "plt.show()\n",
    "\n",
    "acc = history3.history['accuracy']\n",
    "val_acc = history3.history['val_accuracy']\n",
    "loss = history3.history['loss']\n",
    "val_loss = history3.history['val_loss']\n",
    "epochs_range = range(len(acc))\n",
    "plt.figure(figsize=(15, 15))\n",
    "plt.subplot(2, 2, 3)\n",
    "plt.plot(epochs_range, loss, label='Training Loss')\n",
    "plt.plot(epochs_range, val_loss, label='Validation Loss')\n",
    "plt.legend(loc='upper right')\n",
    "plt.title('Training and Validation Loss/L1')\n",
    "plt.show()\n",
    "\n",
    "\n"
   ]
  },
  {
   "cell_type": "code",
   "execution_count": null,
   "id": "3538a37a",
   "metadata": {},
   "outputs": [],
   "source": []
  }
 ],
 "metadata": {
  "kernelspec": {
   "display_name": "Python 3 (ipykernel)",
   "language": "python",
   "name": "python3"
  },
  "language_info": {
   "codemirror_mode": {
    "name": "ipython",
    "version": 3
   },
   "file_extension": ".py",
   "mimetype": "text/x-python",
   "name": "python",
   "nbconvert_exporter": "python",
   "pygments_lexer": "ipython3",
   "version": "3.9.7"
  }
 },
 "nbformat": 4,
 "nbformat_minor": 5
}
