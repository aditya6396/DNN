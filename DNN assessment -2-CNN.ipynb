{
 "cells": [
  {
   "cell_type": "markdown",
   "id": "a0133361",
   "metadata": {},
   "source": [
    "4. Implement Convolutional Neural Network using any suitable dataset\n",
    "5. Apply different parameter running methodologies on CNN and analysis their\n",
    "performance"
   ]
  },
  {
   "cell_type": "code",
   "execution_count": 1,
   "id": "7a6acb44",
   "metadata": {},
   "outputs": [],
   "source": [
    "import numpy as np\n",
    "\n",
    "import pandas as pd \n",
    "\n",
    "from numpy import unique, argmax\n",
    "\n",
    "from tensorflow.keras.datasets.mnist import load_data \n",
    "\n",
    "from tensorflow.keras import Sequential\n",
    "\n",
    "from tensorflow.keras.layers import Conv2D\n",
    "\n",
    "from tensorflow.keras.layers import MaxPool2D\n",
    "import seaborn as sns \n",
    "\n",
    "from tensorflow.keras.layers import Dense \n",
    "\n",
    "from tensorflow.keras.layers import Flatten \n",
    "\n",
    "from tensorflow.keras.layers import Dropout \n",
    "\n",
    "from tensorflow.keras.utils import plot_model\n",
    "\n",
    "import matplotlib.pyplot as plt\n",
    "\n",
    "from tensorflow.keras.datasets import mnist \n",
    "\n",
    "from tensorflow.keras.preprocessing.image import ImageDataGenerator\n",
    "from tensorflow.keras.layers import BatchNormalization"
   ]
  },
  {
   "cell_type": "code",
   "execution_count": 2,
   "id": "55415887",
   "metadata": {},
   "outputs": [],
   "source": [
    "#loading the MNIST Dataset \n",
    "\n",
    "(train_x, train_y), (test_x, test_y) = mnist.load_data()"
   ]
  },
  {
   "cell_type": "code",
   "execution_count": 3,
   "id": "ab01056e",
   "metadata": {},
   "outputs": [
    {
     "name": "stdout",
     "output_type": "stream",
     "text": [
      "(60000, 28, 28) (60000,)\n",
      "(10000, 28, 28) (10000,)\n"
     ]
    }
   ],
   "source": [
    "#printing the shapes \n",
    "\n",
    "print(train_x.shape, train_y.shape)\n",
    "\n",
    "print(test_x.shape , test_y.shape)"
   ]
  },
  {
   "cell_type": "code",
   "execution_count": 4,
   "id": "c92b1912",
   "metadata": {},
   "outputs": [],
   "source": [
    "#reshaping train and test sets \n",
    "\n",
    "train_x = train_x.reshape((train_x.shape[0], train_x.shape[1], train_x.shape[2], 1))\n",
    "\n",
    "test_x = test_x .reshape((test_x.shape[0], test_x.shape[1], test_x.shape[2], 1))"
   ]
  },
  {
   "cell_type": "code",
   "execution_count": 7,
   "id": "9e1ceb0a",
   "metadata": {},
   "outputs": [
    {
     "name": "stdout",
     "output_type": "stream",
     "text": [
      "(60000, 28, 28, 1) (60000,)\n",
      "(10000, 28, 28, 1) (10000,)\n"
     ]
    }
   ],
   "source": [
    "#printing the shapes \n",
    "\n",
    "print(train_x.shape, train_y.shape)\n",
    "\n",
    "print(test_x.shape , test_y.shape)\n",
    "\n",
    " "
   ]
  },
  {
   "cell_type": "code",
   "execution_count": 8,
   "id": "8f7ce245",
   "metadata": {},
   "outputs": [],
   "source": [
    "#normalizing the pixel values of images \n",
    "\n",
    "train_x = train_x.astype('float32')/255.0\n",
    "\n",
    "test_x = test_x.astype('float32')/255.0"
   ]
  },
  {
   "cell_type": "code",
   "execution_count": 9,
   "id": "5542fa46",
   "metadata": {},
   "outputs": [
    {
     "data": {
      "text/plain": [
       "(28, 28, 1)"
      ]
     },
     "execution_count": 9,
     "metadata": {},
     "output_type": "execute_result"
    }
   ],
   "source": [
    "shape = train_x.shape[1:]\n",
    "\n",
    "shape"
   ]
  },
  {
   "cell_type": "code",
   "execution_count": 11,
   "id": "7c5eae39",
   "metadata": {},
   "outputs": [],
   "source": [
    "#CNN Model \n",
    "\n",
    "model = Sequential()\n",
    "\n",
    "#adding convolutional layer \n",
    "\n",
    "model.add(Conv2D(32, (3,3), activation='relu', input_shape= shape))\n",
    "\n",
    "model.add(MaxPool2D((2,2)))\n",
    "\n",
    "model.add(Conv2D(48, (3,3), activation='relu'))\n",
    "\n",
    "model.add(MaxPool2D((2,2)))\n",
    "\n",
    "# using dropout\n",
    "model.add(Dropout(0.5))\n",
    "\n",
    "model.add(Flatten())\n",
    "\n",
    "model.add(Dense(500, activation='relu'))\n",
    "\n",
    "model.add(Dense(10, activation='softmax'))"
   ]
  },
  {
   "cell_type": "code",
   "execution_count": 12,
   "id": "11aa46a6",
   "metadata": {},
   "outputs": [
    {
     "name": "stdout",
     "output_type": "stream",
     "text": [
      "Model: \"sequential\"\n",
      "_________________________________________________________________\n",
      " Layer (type)                Output Shape              Param #   \n",
      "=================================================================\n",
      " conv2d (Conv2D)             (None, 26, 26, 32)        320       \n",
      "                                                                 \n",
      " max_pooling2d (MaxPooling2D  (None, 13, 13, 32)       0         \n",
      " )                                                               \n",
      "                                                                 \n",
      " conv2d_1 (Conv2D)           (None, 11, 11, 48)        13872     \n",
      "                                                                 \n",
      " max_pooling2d_1 (MaxPooling  (None, 5, 5, 48)         0         \n",
      " 2D)                                                             \n",
      "                                                                 \n",
      " dropout (Dropout)           (None, 5, 5, 48)          0         \n",
      "                                                                 \n",
      " flatten (Flatten)           (None, 1200)              0         \n",
      "                                                                 \n",
      " dense (Dense)               (None, 500)               600500    \n",
      "                                                                 \n",
      " dense_1 (Dense)             (None, 10)                5010      \n",
      "                                                                 \n",
      "=================================================================\n",
      "Total params: 619,702\n",
      "Trainable params: 619,702\n",
      "Non-trainable params: 0\n",
      "_________________________________________________________________\n"
     ]
    }
   ],
   "source": [
    "model.summary()"
   ]
  },
  {
   "cell_type": "code",
   "execution_count": 13,
   "id": "da0980d3",
   "metadata": {},
   "outputs": [
    {
     "name": "stdout",
     "output_type": "stream",
     "text": [
      "Epoch 1/10\n",
      "422/422 - 36s - loss: 0.2531 - accuracy: 0.9225 - val_loss: 0.0661 - val_accuracy: 0.9807 - 36s/epoch - 86ms/step\n",
      "Epoch 2/10\n",
      "422/422 - 34s - loss: 0.0830 - accuracy: 0.9742 - val_loss: 0.0459 - val_accuracy: 0.9870 - 34s/epoch - 80ms/step\n",
      "Epoch 3/10\n",
      "422/422 - 32s - loss: 0.0598 - accuracy: 0.9812 - val_loss: 0.0340 - val_accuracy: 0.9903 - 32s/epoch - 77ms/step\n",
      "Epoch 4/10\n",
      "422/422 - 37s - loss: 0.0501 - accuracy: 0.9836 - val_loss: 0.0328 - val_accuracy: 0.9903 - 37s/epoch - 88ms/step\n",
      "Epoch 5/10\n",
      "422/422 - 38s - loss: 0.0403 - accuracy: 0.9872 - val_loss: 0.0280 - val_accuracy: 0.9923 - 38s/epoch - 91ms/step\n",
      "Epoch 6/10\n",
      "422/422 - 38s - loss: 0.0379 - accuracy: 0.9872 - val_loss: 0.0295 - val_accuracy: 0.9925 - 38s/epoch - 90ms/step\n",
      "Epoch 7/10\n",
      "422/422 - 40s - loss: 0.0325 - accuracy: 0.9893 - val_loss: 0.0260 - val_accuracy: 0.9933 - 40s/epoch - 96ms/step\n",
      "Epoch 8/10\n",
      "422/422 - 40s - loss: 0.0288 - accuracy: 0.9905 - val_loss: 0.0266 - val_accuracy: 0.9932 - 40s/epoch - 94ms/step\n",
      "Epoch 9/10\n",
      "422/422 - 38s - loss: 0.0262 - accuracy: 0.9911 - val_loss: 0.0295 - val_accuracy: 0.9910 - 38s/epoch - 90ms/step\n",
      "Epoch 10/10\n",
      "422/422 - 37s - loss: 0.0240 - accuracy: 0.9918 - val_loss: 0.0205 - val_accuracy: 0.9952 - 37s/epoch - 88ms/step\n"
     ]
    }
   ],
   "source": [
    "#compiling model \n",
    "\n",
    "model.compile(optimizer='adam', loss = 'sparse_categorical_crossentropy',metrics= ['accuracy'] )\n",
    "\n",
    "x=model.fit(train_x, train_y, epochs=10, batch_size = 128, verbose= 2 , validation_split = 0.1)"
   ]
  },
  {
   "cell_type": "code",
   "execution_count": 14,
   "id": "e20a202e",
   "metadata": {},
   "outputs": [
    {
     "name": "stdout",
     "output_type": "stream",
     "text": [
      "Epoch 1/10\n",
      "422/422 - 45s - loss: 0.0221 - accuracy: 0.9929 - val_loss: 0.0256 - val_accuracy: 0.9937 - 45s/epoch - 105ms/step\n",
      "Epoch 2/10\n",
      "422/422 - 42s - loss: 0.0214 - accuracy: 0.9929 - val_loss: 0.0271 - val_accuracy: 0.9923 - 42s/epoch - 99ms/step\n",
      "Epoch 3/10\n",
      "422/422 - 39s - loss: 0.0192 - accuracy: 0.9935 - val_loss: 0.0242 - val_accuracy: 0.9945 - 39s/epoch - 93ms/step\n",
      "Epoch 4/10\n",
      "422/422 - 39s - loss: 0.0178 - accuracy: 0.9939 - val_loss: 0.0282 - val_accuracy: 0.9925 - 39s/epoch - 93ms/step\n",
      "Epoch 5/10\n",
      "422/422 - 39s - loss: 0.0168 - accuracy: 0.9942 - val_loss: 0.0266 - val_accuracy: 0.9935 - 39s/epoch - 92ms/step\n",
      "Epoch 6/10\n",
      "422/422 - 39s - loss: 0.0143 - accuracy: 0.9951 - val_loss: 0.0313 - val_accuracy: 0.9927 - 39s/epoch - 93ms/step\n",
      "Epoch 7/10\n",
      "422/422 - 41s - loss: 0.0145 - accuracy: 0.9948 - val_loss: 0.0244 - val_accuracy: 0.9938 - 41s/epoch - 98ms/step\n",
      "Epoch 8/10\n",
      "422/422 - 39s - loss: 0.0141 - accuracy: 0.9952 - val_loss: 0.0259 - val_accuracy: 0.9943 - 39s/epoch - 93ms/step\n",
      "Epoch 9/10\n",
      "422/422 - 39s - loss: 0.0128 - accuracy: 0.9956 - val_loss: 0.0258 - val_accuracy: 0.9945 - 39s/epoch - 92ms/step\n",
      "Epoch 10/10\n",
      "422/422 - 42s - loss: 0.0122 - accuracy: 0.9959 - val_loss: 0.0270 - val_accuracy: 0.9943 - 42s/epoch - 99ms/step\n"
     ]
    }
   ],
   "source": [
    "#compiling model \n",
    "\n",
    "model.compile(optimizer='nadam', loss = 'sparse_categorical_crossentropy',metrics= ['accuracy'] )\n",
    "\n",
    "history2=model.fit(train_x, train_y, epochs=10, batch_size = 128, verbose= 2 , validation_split = 0.1)"
   ]
  },
  {
   "cell_type": "code",
   "execution_count": 15,
   "id": "5a8133b4",
   "metadata": {},
   "outputs": [
    {
     "name": "stdout",
     "output_type": "stream",
     "text": [
      "Epoch 1/10\n",
      "422/422 - 37s - loss: 0.0092 - accuracy: 0.9967 - val_loss: 0.0266 - val_accuracy: 0.9942 - 37s/epoch - 87ms/step\n",
      "Epoch 2/10\n",
      "422/422 - 35s - loss: 0.0082 - accuracy: 0.9970 - val_loss: 0.0265 - val_accuracy: 0.9943 - 35s/epoch - 82ms/step\n",
      "Epoch 3/10\n",
      "422/422 - 35s - loss: 0.0087 - accuracy: 0.9969 - val_loss: 0.0263 - val_accuracy: 0.9942 - 35s/epoch - 82ms/step\n",
      "Epoch 4/10\n",
      "422/422 - 35s - loss: 0.0080 - accuracy: 0.9974 - val_loss: 0.0265 - val_accuracy: 0.9943 - 35s/epoch - 82ms/step\n",
      "Epoch 5/10\n",
      "422/422 - 35s - loss: 0.0085 - accuracy: 0.9971 - val_loss: 0.0264 - val_accuracy: 0.9943 - 35s/epoch - 83ms/step\n",
      "Epoch 6/10\n",
      "422/422 - 35s - loss: 0.0086 - accuracy: 0.9971 - val_loss: 0.0262 - val_accuracy: 0.9943 - 35s/epoch - 82ms/step\n",
      "Epoch 7/10\n",
      "422/422 - 35s - loss: 0.0084 - accuracy: 0.9970 - val_loss: 0.0262 - val_accuracy: 0.9940 - 35s/epoch - 82ms/step\n",
      "Epoch 8/10\n",
      "422/422 - 35s - loss: 0.0079 - accuracy: 0.9972 - val_loss: 0.0261 - val_accuracy: 0.9942 - 35s/epoch - 83ms/step\n",
      "Epoch 9/10\n",
      "422/422 - 37s - loss: 0.0080 - accuracy: 0.9971 - val_loss: 0.0260 - val_accuracy: 0.9943 - 37s/epoch - 87ms/step\n",
      "Epoch 10/10\n",
      "422/422 - 35s - loss: 0.0075 - accuracy: 0.9975 - val_loss: 0.0260 - val_accuracy: 0.9942 - 35s/epoch - 83ms/step\n"
     ]
    }
   ],
   "source": [
    "#compiling model \n",
    "\n",
    "model.compile(optimizer='Adagrad', loss = 'sparse_categorical_crossentropy',metrics= ['accuracy'] )\n",
    "\n",
    "history3=model.fit(train_x, train_y, epochs=10, batch_size = 128, verbose= 2 , validation_split = 0.1)"
   ]
  },
  {
   "cell_type": "code",
   "execution_count": 17,
   "id": "fb5e82e1",
   "metadata": {},
   "outputs": [
    {
     "name": "stdout",
     "output_type": "stream",
     "text": [
      "Epoch 1/10\n",
      "422/422 - 33s - loss: 0.0098 - accuracy: 0.9966 - val_loss: 0.0274 - val_accuracy: 0.9957 - 33s/epoch - 78ms/step\n",
      "Epoch 2/10\n",
      "422/422 - 32s - loss: 0.0097 - accuracy: 0.9967 - val_loss: 0.0344 - val_accuracy: 0.9932 - 32s/epoch - 76ms/step\n",
      "Epoch 3/10\n",
      "422/422 - 33s - loss: 0.0097 - accuracy: 0.9968 - val_loss: 0.0349 - val_accuracy: 0.9942 - 33s/epoch - 78ms/step\n",
      "Epoch 4/10\n",
      "422/422 - 35s - loss: 0.0096 - accuracy: 0.9967 - val_loss: 0.0306 - val_accuracy: 0.9943 - 35s/epoch - 83ms/step\n",
      "Epoch 5/10\n",
      "422/422 - 36s - loss: 0.0099 - accuracy: 0.9968 - val_loss: 0.0329 - val_accuracy: 0.9938 - 36s/epoch - 86ms/step\n",
      "Epoch 6/10\n",
      "422/422 - 37s - loss: 0.0093 - accuracy: 0.9971 - val_loss: 0.0341 - val_accuracy: 0.9945 - 37s/epoch - 87ms/step\n",
      "Epoch 7/10\n",
      "422/422 - 37s - loss: 0.0096 - accuracy: 0.9969 - val_loss: 0.0341 - val_accuracy: 0.9948 - 37s/epoch - 88ms/step\n",
      "Epoch 8/10\n",
      "422/422 - 39s - loss: 0.0096 - accuracy: 0.9970 - val_loss: 0.0289 - val_accuracy: 0.9947 - 39s/epoch - 92ms/step\n",
      "Epoch 9/10\n",
      "422/422 - 38s - loss: 0.0091 - accuracy: 0.9968 - val_loss: 0.0302 - val_accuracy: 0.9942 - 38s/epoch - 89ms/step\n",
      "Epoch 10/10\n",
      "422/422 - 37s - loss: 0.0081 - accuracy: 0.9973 - val_loss: 0.0305 - val_accuracy: 0.9942 - 37s/epoch - 89ms/step\n"
     ]
    }
   ],
   "source": [
    "#compiling model \n",
    "\n",
    "model.compile(optimizer='RMSProp', loss = 'sparse_categorical_crossentropy',metrics= ['accuracy'] )\n",
    "\n",
    "history4=model.fit(train_x, train_y, epochs=10, batch_size = 128, verbose= 2 , validation_split = 0.1)"
   ]
  },
  {
   "cell_type": "code",
   "execution_count": 19,
   "id": "40f69403",
   "metadata": {},
   "outputs": [
    {
     "name": "stdout",
     "output_type": "stream",
     "text": [
      "Epoch 1/10\n",
      "422/422 - 30s - loss: 0.0063 - accuracy: 0.9978 - val_loss: 0.0303 - val_accuracy: 0.9947 - 30s/epoch - 71ms/step\n",
      "Epoch 2/10\n",
      "422/422 - 31s - loss: 0.0057 - accuracy: 0.9982 - val_loss: 0.0301 - val_accuracy: 0.9947 - 31s/epoch - 74ms/step\n",
      "Epoch 3/10\n",
      "422/422 - 33s - loss: 0.0051 - accuracy: 0.9983 - val_loss: 0.0298 - val_accuracy: 0.9950 - 33s/epoch - 79ms/step\n",
      "Epoch 4/10\n",
      "422/422 - 34s - loss: 0.0044 - accuracy: 0.9984 - val_loss: 0.0296 - val_accuracy: 0.9950 - 34s/epoch - 81ms/step\n",
      "Epoch 5/10\n",
      "422/422 - 34s - loss: 0.0052 - accuracy: 0.9981 - val_loss: 0.0296 - val_accuracy: 0.9947 - 34s/epoch - 81ms/step\n",
      "Epoch 6/10\n",
      "422/422 - 35s - loss: 0.0055 - accuracy: 0.9982 - val_loss: 0.0298 - val_accuracy: 0.9948 - 35s/epoch - 83ms/step\n",
      "Epoch 7/10\n",
      "422/422 - 38s - loss: 0.0047 - accuracy: 0.9984 - val_loss: 0.0300 - val_accuracy: 0.9947 - 38s/epoch - 90ms/step\n",
      "Epoch 8/10\n",
      "422/422 - 42s - loss: 0.0044 - accuracy: 0.9987 - val_loss: 0.0297 - val_accuracy: 0.9948 - 42s/epoch - 99ms/step\n",
      "Epoch 9/10\n",
      "422/422 - 42s - loss: 0.0044 - accuracy: 0.9985 - val_loss: 0.0300 - val_accuracy: 0.9945 - 42s/epoch - 99ms/step\n",
      "Epoch 10/10\n",
      "422/422 - 41s - loss: 0.0046 - accuracy: 0.9983 - val_loss: 0.0296 - val_accuracy: 0.9947 - 41s/epoch - 96ms/step\n"
     ]
    }
   ],
   "source": [
    "#compiling model \n",
    "\n",
    "model.compile(optimizer='SGD', loss = 'sparse_categorical_crossentropy',metrics= ['accuracy'] )\n",
    "\n",
    "history5=model.fit(train_x, train_y, epochs=10, batch_size = 128, verbose= 2 , validation_split = 0.1)"
   ]
  },
  {
   "cell_type": "code",
   "execution_count": null,
   "id": "f9c65e2b",
   "metadata": {},
   "outputs": [],
   "source": []
  },
  {
   "cell_type": "code",
   "execution_count": 23,
   "id": "ee11e1c1",
   "metadata": {},
   "outputs": [],
   "source": [
    "#using early stopping"
   ]
  },
  {
   "cell_type": "code",
   "execution_count": 26,
   "id": "581a8365",
   "metadata": {},
   "outputs": [],
   "source": [
    "#compiling model \n",
    "\n",
    "model.compile(optimizer='Adam', loss = 'sparse_categorical_crossentropy',metrics= ['accuracy'] )\n",
    "\n"
   ]
  },
  {
   "cell_type": "code",
   "execution_count": 29,
   "id": "dc5604d4",
   "metadata": {},
   "outputs": [
    {
     "name": "stdout",
     "output_type": "stream",
     "text": [
      "Epoch 1/5\n",
      "30000/30000 [==============================] - 279s 9ms/step - loss: 0.0783 - accuracy: 0.9786\n",
      "Epoch 2/5\n",
      "30000/30000 [==============================] - 286s 10ms/step - loss: 0.0761 - accuracy: 0.9783\n",
      "Epoch 3/5\n",
      "30000/30000 [==============================] - 280s 9ms/step - loss: 0.0752 - accuracy: 0.9801\n",
      "Epoch 4/5\n",
      "30000/30000 [==============================] - 288s 10ms/step - loss: 0.0745 - accuracy: 0.9807\n",
      "Epoch 5/5\n",
      "30000/30000 [==============================] - 268s 9ms/step - loss: 0.0733 - accuracy: 0.9806\n"
     ]
    },
    {
     "data": {
      "text/plain": [
       "<keras.callbacks.History at 0x21a2a56fa00>"
      ]
     },
     "execution_count": 29,
     "metadata": {},
     "output_type": "execute_result"
    }
   ],
   "source": [
    "from keras.callbacks import EarlyStopping\n",
    "callsbacks=[EarlyStopping(monitor=\"val_accuracy\",patience=3)]\n",
    "model.fit(train_x,train_y,epochs=5,batch_size=2,validation_split=0)"
   ]
  },
  {
   "cell_type": "code",
   "execution_count": 30,
   "id": "0d234e22",
   "metadata": {},
   "outputs": [],
   "source": [
    "#analysising the performance"
   ]
  },
  {
   "cell_type": "code",
   "execution_count": 38,
   "id": "b74e8260",
   "metadata": {},
   "outputs": [
    {
     "name": "stdout",
     "output_type": "stream",
     "text": [
      "Accuracy: 98.83999824523926\n"
     ]
    }
   ],
   "source": [
    "#testdata set accuracy\n",
    "loss, accuracy= model.evaluate(test_x, test_y, verbose = 0)\n",
    "\n",
    "print(f'Accuracy: {accuracy*100}')"
   ]
  },
  {
   "cell_type": "code",
   "execution_count": 41,
   "id": "60f2763a",
   "metadata": {},
   "outputs": [
    {
     "name": "stdout",
     "output_type": "stream",
     "text": [
      "313/313 [==============================] - 4s 13ms/step\n"
     ]
    }
   ],
   "source": [
    "y_pred = model.predict(test_x)"
   ]
  },
  {
   "cell_type": "code",
   "execution_count": 43,
   "id": "413019d0",
   "metadata": {},
   "outputs": [],
   "source": [
    "from sklearn.metrics import confusion_matrix\n",
    "\n",
    "\n",
    "confusion=confusion_matrix(test_y, np.argmax(y_pred,axis=1))\n"
   ]
  },
  {
   "cell_type": "code",
   "execution_count": 44,
   "id": "9902af45",
   "metadata": {},
   "outputs": [
    {
     "name": "stdout",
     "output_type": "stream",
     "text": [
      "[[ 975    1    0    0    0    0    2    1    1    0]\n",
      " [   0 1132    0    1    0    0    0    2    0    0]\n",
      " [   0    2 1021    2    0    0    0    6    1    0]\n",
      " [   0    0    3  987    0   11    0    2    2    5]\n",
      " [   0    0    1    0  965    0    4    0    0   12]\n",
      " [   2    0    0    1    0  886    1    0    1    1]\n",
      " [   6    3    0    1    1    5  942    0    0    0]\n",
      " [   0    3    0    0    1    1    0 1020    1    2]\n",
      " [   3    0    3    1    0    1    0    1  962    3]\n",
      " [   0    1    1    0    8    1    0    4    0  994]]\n"
     ]
    }
   ],
   "source": [
    "print(confusion)"
   ]
  },
  {
   "cell_type": "code",
   "execution_count": 45,
   "id": "69fd1088",
   "metadata": {},
   "outputs": [],
   "source": [
    "from sklearn.metrics import classification_report\n",
    "\n",
    "c =classification_report(test_y, np.argmax(y_pred,axis=1))"
   ]
  },
  {
   "cell_type": "code",
   "execution_count": 46,
   "id": "1c05c067",
   "metadata": {},
   "outputs": [
    {
     "name": "stdout",
     "output_type": "stream",
     "text": [
      "              precision    recall  f1-score   support\n",
      "\n",
      "           0       0.99      0.99      0.99       980\n",
      "           1       0.99      1.00      0.99      1135\n",
      "           2       0.99      0.99      0.99      1032\n",
      "           3       0.99      0.98      0.99      1010\n",
      "           4       0.99      0.98      0.99       982\n",
      "           5       0.98      0.99      0.99       892\n",
      "           6       0.99      0.98      0.99       958\n",
      "           7       0.98      0.99      0.99      1028\n",
      "           8       0.99      0.99      0.99       974\n",
      "           9       0.98      0.99      0.98      1009\n",
      "\n",
      "    accuracy                           0.99     10000\n",
      "   macro avg       0.99      0.99      0.99     10000\n",
      "weighted avg       0.99      0.99      0.99     10000\n",
      "\n"
     ]
    }
   ],
   "source": [
    "print(c)"
   ]
  },
  {
   "cell_type": "markdown",
   "id": "bfb6faf6",
   "metadata": {},
   "source": [
    "# ploting loss vs accurcay"
   ]
  },
  {
   "cell_type": "code",
   "execution_count": 49,
   "id": "2aaf5f8e",
   "metadata": {},
   "outputs": [
    {
     "data": {
      "image/png": "[encoded data removed]",
      "text/plain": [
       "<Figure size 1080x1080 with 1 Axes>"
      ]
     },
     "metadata": {
      "needs_background": "light"
     },
     "output_type": "display_data"
    },
    {
     "data": {
      "image/png": "[encoded data removed]",
      "text/plain": [
       "<Figure size 1080x1080 with 1 Axes>"
      ]
     },
     "metadata": {
      "needs_background": "light"
     },
     "output_type": "display_data"
    },
    {
     "data": {
      "image/png": "[encoded data removed]",
      "text/plain": [
       "<Figure size 1080x1080 with 1 Axes>"
      ]
     },
     "metadata": {
      "needs_background": "light"
     },
     "output_type": "display_data"
    },
    {
     "data": {
      "image/png": "[encoded data removed]",
      "text/plain": [
       "<Figure size 1080x1080 with 1 Axes>"
      ]
     },
     "metadata": {
      "needs_background": "light"
     },
     "output_type": "display_data"
    },
    {
     "data": {
      "image/png": "[encoded data removed]",
      "text/plain": [
       "<Figure size 1080x1080 with 1 Axes>"
      ]
     },
     "metadata": {
      "needs_background": "light"
     },
     "output_type": "display_data"
    }
   ],
   "source": [
    "acc = x.history['accuracy']\n",
    "val_acc = x.history['val_accuracy']\n",
    "loss = x.history['loss']\n",
    "val_loss = x.history['val_loss']\n",
    "epochs_range = range(len(acc))\n",
    "plt.figure(figsize=(15, 15))\n",
    "plt.subplot(2, 2, 2)\n",
    "plt.plot(epochs_range, loss, label='Training Loss')\n",
    "plt.plot(epochs_range, val_loss, label='Validation Loss')\n",
    "plt.legend(loc='upper right')\n",
    "plt.title('Training and Validation Loss')\n",
    "plt.show()\n",
    "\n",
    "\n",
    "\n",
    "\n",
    "\n",
    "acc = history2.history['accuracy']\n",
    "val_acc = history2.history['val_accuracy']\n",
    "loss = history2.history['loss']\n",
    "val_loss = history2.history['val_loss']\n",
    "epochs_range = range(len(acc))\n",
    "plt.figure(figsize=(15, 15))\n",
    "plt.subplot(2, 2, 2)\n",
    "plt.plot(epochs_range, loss, label='Training Loss')\n",
    "plt.plot(epochs_range, val_loss, label='Validation Loss')\n",
    "plt.legend(loc='upper right')\n",
    "plt.title('Training and Validation Loss')\n",
    "plt.show()\n",
    "\n",
    "\n",
    "acc = history3.history['accuracy']\n",
    "val_acc = history3.history['val_accuracy']\n",
    "loss = history3.history['loss']\n",
    "val_loss = history3.history['val_loss']\n",
    "epochs_range = range(len(acc))\n",
    "plt.figure(figsize=(15, 15))\n",
    "plt.subplot(2, 2, 2)\n",
    "plt.plot(epochs_range, loss, label='Training Loss')\n",
    "plt.plot(epochs_range, val_loss, label='Validation Loss')\n",
    "plt.legend(loc='upper right')\n",
    "plt.title('Training and Validation Loss')\n",
    "plt.show()\n",
    "\n",
    "\n",
    "acc = history4.history['accuracy']\n",
    "val_acc = history4.history['val_accuracy']\n",
    "loss = history4.history['loss']\n",
    "val_loss = history4.history['val_loss']\n",
    "epochs_range = range(len(acc))\n",
    "plt.figure(figsize=(15, 15))\n",
    "plt.subplot(2, 2, 2)\n",
    "plt.plot(epochs_range, loss, label='Training Loss')\n",
    "plt.plot(epochs_range, val_loss, label='Validation Loss')\n",
    "plt.legend(loc='upper right')\n",
    "plt.title('Training and Validation Loss')\n",
    "plt.show()\n",
    "\n",
    "\n",
    "acc = history5.history['accuracy']\n",
    "val_acc = history5.history['val_accuracy']\n",
    "loss = history5.history['loss']\n",
    "val_loss = history5.history['val_loss']\n",
    "epochs_range = range(len(acc))\n",
    "plt.figure(figsize=(15, 15))\n",
    "plt.subplot(2, 2, 2)\n",
    "plt.plot(epochs_range, loss, label='Training Loss')\n",
    "plt.plot(epochs_range, val_loss, label='Validation Loss')\n",
    "plt.legend(loc='upper right')\n",
    "plt.title('Training and Validation Loss')\n",
    "plt.show()"
   ]
  },
  {
   "cell_type": "code",
   "execution_count": 56,
   "id": "7fa349ca",
   "metadata": {},
   "outputs": [
    {
     "name": "stdout",
     "output_type": "stream",
     "text": [
      "Predictions Sample\n"
     ]
    },
    {
     "name": "stderr",
     "output_type": "stream",
     "text": [
      "C:\\Users\\DELL\\Anaconda3\\lib\\site-packages\\matplotlib\\backends\\backend_agg.py:240: RuntimeWarning: Glyph 7 missing from current font.\n",
      "  font.set_text(s, 0.0, flags=flags)\n",
      "C:\\Users\\DELL\\Anaconda3\\lib\\site-packages\\matplotlib\\backends\\backend_agg.py:240: RuntimeWarning: Glyph 2 missing from current font.\n",
      "  font.set_text(s, 0.0, flags=flags)\n",
      "C:\\Users\\DELL\\Anaconda3\\lib\\site-packages\\matplotlib\\backends\\backend_agg.py:240: RuntimeWarning: Glyph 1 missing from current font.\n",
      "  font.set_text(s, 0.0, flags=flags)\n",
      "C:\\Users\\DELL\\Anaconda3\\lib\\site-packages\\matplotlib\\backends\\backend_agg.py:240: RuntimeWarning: Glyph 0 missing from current font.\n",
      "  font.set_text(s, 0.0, flags=flags)\n",
      "C:\\Users\\DELL\\Anaconda3\\lib\\site-packages\\matplotlib\\backends\\backend_agg.py:240: RuntimeWarning: Glyph 4 missing from current font.\n",
      "  font.set_text(s, 0.0, flags=flags)\n",
      "C:\\Users\\DELL\\Anaconda3\\lib\\site-packages\\matplotlib\\backends\\backend_agg.py:240: RuntimeWarning: Glyph 9 missing from current font.\n",
      "  font.set_text(s, 0.0, flags=flags)\n",
      "C:\\Users\\DELL\\Anaconda3\\lib\\site-packages\\matplotlib\\backends\\backend_agg.py:240: RuntimeWarning: Glyph 5 missing from current font.\n",
      "  font.set_text(s, 0.0, flags=flags)\n",
      "C:\\Users\\DELL\\Anaconda3\\lib\\site-packages\\matplotlib\\backends\\backend_agg.py:203: RuntimeWarning: Glyph 7 missing from current font.\n",
      "  font.set_text(s, 0, flags=flags)\n",
      "C:\\Users\\DELL\\Anaconda3\\lib\\site-packages\\matplotlib\\backends\\backend_agg.py:203: RuntimeWarning: Glyph 2 missing from current font.\n",
      "  font.set_text(s, 0, flags=flags)\n",
      "C:\\Users\\DELL\\Anaconda3\\lib\\site-packages\\matplotlib\\backends\\backend_agg.py:203: RuntimeWarning: Glyph 1 missing from current font.\n",
      "  font.set_text(s, 0, flags=flags)\n",
      "C:\\Users\\DELL\\Anaconda3\\lib\\site-packages\\matplotlib\\backends\\backend_agg.py:203: RuntimeWarning: Glyph 0 missing from current font.\n",
      "  font.set_text(s, 0, flags=flags)\n",
      "C:\\Users\\DELL\\Anaconda3\\lib\\site-packages\\matplotlib\\backends\\backend_agg.py:203: RuntimeWarning: Glyph 4 missing from current font.\n",
      "  font.set_text(s, 0, flags=flags)\n",
      "C:\\Users\\DELL\\Anaconda3\\lib\\site-packages\\matplotlib\\backends\\backend_agg.py:203: RuntimeWarning: Glyph 9 missing from current font.\n",
      "  font.set_text(s, 0, flags=flags)\n",
      "C:\\Users\\DELL\\Anaconda3\\lib\\site-packages\\matplotlib\\backends\\backend_agg.py:203: RuntimeWarning: Glyph 5 missing from current font.\n",
      "  font.set_text(s, 0, flags=flags)\n"
     ]
    },
    {
     "data": {
      "image/png": "[encoded data removed]",
      "text/plain": [
       "<Figure size 720x720 with 9 Axes>"
      ]
     },
     "metadata": {
      "needs_background": "light"
     },
     "output_type": "display_data"
    }
   ],
   "source": [
    "print(\"Predictions Sample\")\n",
    "\n",
    "plt.figure(figsize=(10,10))\n",
    "for i in range(9):\n",
    "    plt.subplot(3,3,i+1)\n",
    "    plt.imshow(test_x[i].reshape(28,28) ,cmap='gray')\n",
    "    plt.ylabel(f\"Actual: {test_y[i]}\")\n",
    "    plt.xlabel(f\"Predicted: {chr( np.argmax(y_pred[i]+65))}\")\n",
    "    \n",
    "plt.show()"
   ]
  },
  {
   "cell_type": "code",
   "execution_count": null,
   "id": "bf979c57",
   "metadata": {},
   "outputs": [],
   "source": []
  }
 ],
 "metadata": {
  "kernelspec": {
   "display_name": "Python 3 (ipykernel)",
   "language": "python",
   "name": "python3"
  },
  "language_info": {
   "codemirror_mode": {
    "name": "ipython",
    "version": 3
   },
   "file_extension": ".py",
   "mimetype": "text/x-python",
   "name": "python",
   "nbconvert_exporter": "python",
   "pygments_lexer": "ipython3",
   "version": "3.9.7"
  }
 },
 "nbformat": 4,
 "nbformat_minor": 5
}
